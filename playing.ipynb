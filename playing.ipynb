{
 "cells": [
  {
   "cell_type": "code",
   "execution_count": 2,
   "id": "d41caaba-1571-4586-8c0f-7c863386c2c2",
   "metadata": {},
   "outputs": [
    {
     "name": "stdout",
     "output_type": "stream",
     "text": [
      "Collecting open-interpreter\n",
      "  Downloading open_interpreter-0.3.4-py3-none-any.whl.metadata (17 kB)\n",
      "Collecting astor<0.9.0,>=0.8.1 (from open-interpreter)\n",
      "  Downloading astor-0.8.1-py2.py3-none-any.whl.metadata (4.2 kB)\n",
      "Collecting git-python<2.0.0,>=1.0.3 (from open-interpreter)\n",
      "  Downloading git_python-1.0.3-py2.py3-none-any.whl.metadata (331 bytes)\n",
      "Collecting html2image<3.0.0.0,>=2.0.4.3 (from open-interpreter)\n",
      "  Downloading html2image-2.0.4.3-py3-none-any.whl.metadata (14 kB)\n",
      "Collecting inquirer<4.0.0,>=3.1.3 (from open-interpreter)\n",
      "  Downloading inquirer-3.3.0-py3-none-any.whl.metadata (6.8 kB)\n",
      "Requirement already satisfied: ipykernel<7.0.0,>=6.26.0 in /opt/anaconda3/lib/python3.12/site-packages (from open-interpreter) (6.28.0)\n",
      "Requirement already satisfied: jupyter-client<9.0.0,>=8.6.0 in /opt/anaconda3/lib/python3.12/site-packages (from open-interpreter) (8.6.0)\n",
      "Collecting litellm<2.0.0,>=1.35.32 (from open-interpreter)\n",
      "  Downloading litellm-1.41.27-py3-none-any.whl.metadata (32 kB)\n",
      "Requirement already satisfied: matplotlib<4.0.0,>=3.8.2 in /opt/anaconda3/lib/python3.12/site-packages (from open-interpreter) (3.8.4)\n",
      "Requirement already satisfied: nltk<4.0.0,>=3.8.1 in /opt/anaconda3/lib/python3.12/site-packages (from open-interpreter) (3.8.1)\n",
      "Collecting platformdirs<5.0.0,>=4.2.0 (from open-interpreter)\n",
      "  Downloading platformdirs-4.2.2-py3-none-any.whl.metadata (11 kB)\n",
      "Collecting psutil<6.0.0,>=5.9.6 (from open-interpreter)\n",
      "  Downloading psutil-5.9.8-cp38-abi3-macosx_11_0_arm64.whl.metadata (21 kB)\n",
      "Collecting pydantic<3.0.0,>=2.6.4 (from open-interpreter)\n",
      "  Downloading pydantic-2.8.2-py3-none-any.whl.metadata (125 kB)\n",
      "\u001b[2K     \u001b[38;2;114;156;31m━━━━━━━━━━━━━━━━━━━━━━━━━━━━━━━━━━━━━━━\u001b[0m \u001b[32m125.2/125.2 kB\u001b[0m \u001b[31m2.2 MB/s\u001b[0m eta \u001b[36m0:00:00\u001b[0m[31m1.8 MB/s\u001b[0m eta \u001b[36m0:00:01\u001b[0m\n",
      "\u001b[?25hRequirement already satisfied: pyyaml<7.0.0,>=6.0.1 in /opt/anaconda3/lib/python3.12/site-packages (from open-interpreter) (6.0.1)\n",
      "Collecting rich<14.0.0,>=13.4.2 (from open-interpreter)\n",
      "  Downloading rich-13.7.1-py3-none-any.whl.metadata (18 kB)\n",
      "Requirement already satisfied: send2trash<2.0.0,>=1.8.2 in /opt/anaconda3/lib/python3.12/site-packages (from open-interpreter) (1.8.2)\n",
      "Requirement already satisfied: setuptools in /opt/anaconda3/lib/python3.12/site-packages (from open-interpreter) (69.5.1)\n",
      "Requirement already satisfied: six<2.0.0,>=1.16.0 in /opt/anaconda3/lib/python3.12/site-packages (from open-interpreter) (1.16.0)\n",
      "Collecting tiktoken<0.7.0,>=0.6.0 (from open-interpreter)\n",
      "  Downloading tiktoken-0.6.0-cp312-cp312-macosx_11_0_arm64.whl.metadata (6.6 kB)\n",
      "Collecting tokentrim<0.2.0,>=0.1.13 (from open-interpreter)\n",
      "  Downloading tokentrim-0.1.13-py3-none-any.whl.metadata (2.9 kB)\n",
      "Requirement already satisfied: toml<0.11.0,>=0.10.2 in /opt/anaconda3/lib/python3.12/site-packages (from open-interpreter) (0.10.2)\n",
      "Collecting wget<4.0,>=3.2 (from open-interpreter)\n",
      "  Downloading wget-3.2.zip (10 kB)\n",
      "  Preparing metadata (setup.py) ... \u001b[?25ldone\n",
      "\u001b[?25hRequirement already satisfied: gitpython in /opt/anaconda3/lib/python3.12/site-packages (from git-python<2.0.0,>=1.0.3->open-interpreter) (3.1.37)\n",
      "Requirement already satisfied: requests in /opt/anaconda3/lib/python3.12/site-packages (from html2image<3.0.0.0,>=2.0.4.3->open-interpreter) (2.32.2)\n",
      "Requirement already satisfied: websocket-client<2.0.0,>=1.0.0 in /opt/anaconda3/lib/python3.12/site-packages (from html2image<3.0.0.0,>=2.0.4.3->open-interpreter) (1.8.0)\n",
      "Collecting blessed>=1.19.0 (from inquirer<4.0.0,>=3.1.3->open-interpreter)\n",
      "  Downloading blessed-1.20.0-py2.py3-none-any.whl.metadata (13 kB)\n",
      "Collecting editor>=1.6.0 (from inquirer<4.0.0,>=3.1.3->open-interpreter)\n",
      "  Downloading editor-1.6.6-py3-none-any.whl.metadata (2.3 kB)\n",
      "Collecting readchar>=3.0.6 (from inquirer<4.0.0,>=3.1.3->open-interpreter)\n",
      "  Downloading readchar-4.1.0-py3-none-any.whl.metadata (7.5 kB)\n",
      "Requirement already satisfied: appnope in /opt/anaconda3/lib/python3.12/site-packages (from ipykernel<7.0.0,>=6.26.0->open-interpreter) (0.1.3)\n",
      "Requirement already satisfied: comm>=0.1.1 in /opt/anaconda3/lib/python3.12/site-packages (from ipykernel<7.0.0,>=6.26.0->open-interpreter) (0.2.1)\n",
      "Requirement already satisfied: debugpy>=1.6.5 in /opt/anaconda3/lib/python3.12/site-packages (from ipykernel<7.0.0,>=6.26.0->open-interpreter) (1.6.7)\n",
      "Requirement already satisfied: ipython>=7.23.1 in /opt/anaconda3/lib/python3.12/site-packages (from ipykernel<7.0.0,>=6.26.0->open-interpreter) (8.25.0)\n",
      "Requirement already satisfied: jupyter-core!=5.0.*,>=4.12 in /opt/anaconda3/lib/python3.12/site-packages (from ipykernel<7.0.0,>=6.26.0->open-interpreter) (5.7.2)\n",
      "Requirement already satisfied: matplotlib-inline>=0.1 in /opt/anaconda3/lib/python3.12/site-packages (from ipykernel<7.0.0,>=6.26.0->open-interpreter) (0.1.6)\n",
      "Requirement already satisfied: nest-asyncio in /opt/anaconda3/lib/python3.12/site-packages (from ipykernel<7.0.0,>=6.26.0->open-interpreter) (1.6.0)\n",
      "Requirement already satisfied: packaging in /opt/anaconda3/lib/python3.12/site-packages (from ipykernel<7.0.0,>=6.26.0->open-interpreter) (23.2)\n",
      "Requirement already satisfied: pyzmq>=24 in /opt/anaconda3/lib/python3.12/site-packages (from ipykernel<7.0.0,>=6.26.0->open-interpreter) (25.1.2)\n",
      "Requirement already satisfied: tornado>=6.1 in /opt/anaconda3/lib/python3.12/site-packages (from ipykernel<7.0.0,>=6.26.0->open-interpreter) (6.4.1)\n",
      "Requirement already satisfied: traitlets>=5.4.0 in /opt/anaconda3/lib/python3.12/site-packages (from ipykernel<7.0.0,>=6.26.0->open-interpreter) (5.14.3)\n",
      "Requirement already satisfied: python-dateutil>=2.8.2 in /opt/anaconda3/lib/python3.12/site-packages (from jupyter-client<9.0.0,>=8.6.0->open-interpreter) (2.9.0.post0)\n",
      "Requirement already satisfied: aiohttp in /opt/anaconda3/lib/python3.12/site-packages (from litellm<2.0.0,>=1.35.32->open-interpreter) (3.9.5)\n",
      "Requirement already satisfied: click in /opt/anaconda3/lib/python3.12/site-packages (from litellm<2.0.0,>=1.35.32->open-interpreter) (8.1.7)\n",
      "Requirement already satisfied: importlib-metadata>=6.8.0 in /opt/anaconda3/lib/python3.12/site-packages (from litellm<2.0.0,>=1.35.32->open-interpreter) (7.0.1)\n",
      "Requirement already satisfied: jinja2<4.0.0,>=3.1.2 in /opt/anaconda3/lib/python3.12/site-packages (from litellm<2.0.0,>=1.35.32->open-interpreter) (3.1.4)\n",
      "Collecting jsonschema<5.0.0,>=4.22.0 (from litellm<2.0.0,>=1.35.32->open-interpreter)\n",
      "  Downloading jsonschema-4.23.0-py3-none-any.whl.metadata (7.9 kB)\n",
      "Collecting openai>=1.27.0 (from litellm<2.0.0,>=1.35.32->open-interpreter)\n",
      "  Downloading openai-1.37.0-py3-none-any.whl.metadata (22 kB)\n",
      "Requirement already satisfied: python-dotenv>=0.2.0 in /opt/anaconda3/lib/python3.12/site-packages (from litellm<2.0.0,>=1.35.32->open-interpreter) (0.21.0)\n",
      "INFO: pip is looking at multiple versions of litellm to determine which version is compatible with other requirements. This could take a while.\n",
      "Collecting litellm<2.0.0,>=1.35.32 (from open-interpreter)\n",
      "  Downloading litellm-1.41.26-py3-none-any.whl.metadata (32 kB)\n",
      "  Downloading litellm-1.41.25-py3-none-any.whl.metadata (32 kB)\n",
      "  Downloading litellm-1.41.24-py3-none-any.whl.metadata (31 kB)\n",
      "  Downloading litellm-1.41.23-py3-none-any.whl.metadata (31 kB)\n",
      "  Downloading litellm-1.41.22-py3-none-any.whl.metadata (31 kB)\n",
      "  Downloading litellm-1.41.21-py3-none-any.whl.metadata (31 kB)\n",
      "  Downloading litellm-1.41.20-py3-none-any.whl.metadata (31 kB)\n",
      "INFO: pip is still looking at multiple versions of litellm to determine which version is compatible with other requirements. This could take a while.\n",
      "  Downloading litellm-1.41.19-py3-none-any.whl.metadata (31 kB)\n",
      "  Downloading litellm-1.41.18-py3-none-any.whl.metadata (31 kB)\n",
      "  Downloading litellm-1.41.17-py3-none-any.whl.metadata (31 kB)\n",
      "  Downloading litellm-1.41.15-py3-none-any.whl.metadata (31 kB)\n",
      "  Downloading litellm-1.41.14-py3-none-any.whl.metadata (31 kB)\n",
      "INFO: This is taking longer than usual. You might need to provide the dependency resolver with stricter constraints to reduce runtime. See https://pip.pypa.io/warnings/backtracking for guidance. If you want to abort this run, press Ctrl + C.\n",
      "  Downloading litellm-1.41.13-py3-none-any.whl.metadata (31 kB)\n",
      "  Downloading litellm-1.41.12-py3-none-any.whl.metadata (31 kB)\n",
      "  Downloading litellm-1.41.11-py3-none-any.whl.metadata (31 kB)\n",
      "  Downloading litellm-1.41.8-py3-none-any.whl.metadata (31 kB)\n",
      "  Downloading litellm-1.41.7-py3-none-any.whl.metadata (31 kB)\n",
      "  Downloading litellm-1.41.6-py3-none-any.whl.metadata (31 kB)\n",
      "  Downloading litellm-1.41.5-py3-none-any.whl.metadata (31 kB)\n",
      "  Downloading litellm-1.41.4-py3-none-any.whl.metadata (31 kB)\n",
      "  Downloading litellm-1.41.3-py3-none-any.whl.metadata (31 kB)\n",
      "  Downloading litellm-1.41.2-py3-none-any.whl.metadata (31 kB)\n",
      "  Downloading litellm-1.41.1-py3-none-any.whl.metadata (31 kB)\n",
      "Collecting ijson (from litellm<2.0.0,>=1.35.32->open-interpreter)\n",
      "  Downloading ijson-3.3.0-cp312-cp312-macosx_11_0_arm64.whl.metadata (21 kB)\n",
      "Collecting litellm<2.0.0,>=1.35.32 (from open-interpreter)\n",
      "  Downloading litellm-1.41.0-py3-none-any.whl.metadata (31 kB)\n",
      "  Downloading litellm-1.40.31-py3-none-any.whl.metadata (31 kB)\n",
      "  Downloading litellm-1.40.29-py3-none-any.whl.metadata (31 kB)\n",
      "  Downloading litellm-1.40.28-py3-none-any.whl.metadata (31 kB)\n",
      "  Downloading litellm-1.40.27-py3-none-any.whl.metadata (31 kB)\n",
      "  Downloading litellm-1.40.26-py3-none-any.whl.metadata (31 kB)\n",
      "  Downloading litellm-1.40.25-py3-none-any.whl.metadata (31 kB)\n",
      "  Downloading litellm-1.40.24-py3-none-any.whl.metadata (31 kB)\n",
      "  Downloading litellm-1.40.22-py3-none-any.whl.metadata (31 kB)\n",
      "  Downloading litellm-1.40.21-py3-none-any.whl.metadata (31 kB)\n",
      "  Downloading litellm-1.40.20-py3-none-any.whl.metadata (30 kB)\n",
      "  Downloading litellm-1.40.19-py3-none-any.whl.metadata (30 kB)\n",
      "  Downloading litellm-1.40.17-py3-none-any.whl.metadata (30 kB)\n",
      "  Downloading litellm-1.40.16-py3-none-any.whl.metadata (30 kB)\n",
      "  Downloading litellm-1.40.15-py3-none-any.whl.metadata (30 kB)\n",
      "  Downloading litellm-1.40.14-py3-none-any.whl.metadata (30 kB)\n",
      "  Downloading litellm-1.40.13-py3-none-any.whl.metadata (30 kB)\n",
      "  Downloading litellm-1.40.12-py3-none-any.whl.metadata (30 kB)\n",
      "  Downloading litellm-1.40.11-py3-none-any.whl.metadata (30 kB)\n",
      "  Downloading litellm-1.40.10-py3-none-any.whl.metadata (30 kB)\n",
      "  Downloading litellm-1.40.9-py3-none-any.whl.metadata (30 kB)\n",
      "  Downloading litellm-1.40.8-py3-none-any.whl.metadata (30 kB)\n",
      "Collecting tokenizers (from litellm<2.0.0,>=1.35.32->open-interpreter)\n",
      "  Downloading tokenizers-0.19.1-cp312-cp312-macosx_11_0_arm64.whl.metadata (6.7 kB)\n",
      "Requirement already satisfied: contourpy>=1.0.1 in /opt/anaconda3/lib/python3.12/site-packages (from matplotlib<4.0.0,>=3.8.2->open-interpreter) (1.2.0)\n",
      "Requirement already satisfied: cycler>=0.10 in /opt/anaconda3/lib/python3.12/site-packages (from matplotlib<4.0.0,>=3.8.2->open-interpreter) (0.11.0)\n",
      "Requirement already satisfied: fonttools>=4.22.0 in /opt/anaconda3/lib/python3.12/site-packages (from matplotlib<4.0.0,>=3.8.2->open-interpreter) (4.51.0)\n",
      "Requirement already satisfied: kiwisolver>=1.3.1 in /opt/anaconda3/lib/python3.12/site-packages (from matplotlib<4.0.0,>=3.8.2->open-interpreter) (1.4.4)\n",
      "Requirement already satisfied: numpy>=1.21 in /opt/anaconda3/lib/python3.12/site-packages (from matplotlib<4.0.0,>=3.8.2->open-interpreter) (1.26.4)\n",
      "Requirement already satisfied: pillow>=8 in /opt/anaconda3/lib/python3.12/site-packages (from matplotlib<4.0.0,>=3.8.2->open-interpreter) (10.3.0)\n",
      "Requirement already satisfied: pyparsing>=2.3.1 in /opt/anaconda3/lib/python3.12/site-packages (from matplotlib<4.0.0,>=3.8.2->open-interpreter) (3.0.9)\n",
      "Requirement already satisfied: joblib in /opt/anaconda3/lib/python3.12/site-packages (from nltk<4.0.0,>=3.8.1->open-interpreter) (1.4.2)\n",
      "Requirement already satisfied: regex>=2021.8.3 in /opt/anaconda3/lib/python3.12/site-packages (from nltk<4.0.0,>=3.8.1->open-interpreter) (2023.10.3)\n",
      "Requirement already satisfied: tqdm in /opt/anaconda3/lib/python3.12/site-packages (from nltk<4.0.0,>=3.8.1->open-interpreter) (4.66.4)\n",
      "Requirement already satisfied: annotated-types>=0.4.0 in /opt/anaconda3/lib/python3.12/site-packages (from pydantic<3.0.0,>=2.6.4->open-interpreter) (0.6.0)\n",
      "Collecting pydantic-core==2.20.1 (from pydantic<3.0.0,>=2.6.4->open-interpreter)\n",
      "  Downloading pydantic_core-2.20.1-cp312-cp312-macosx_11_0_arm64.whl.metadata (6.6 kB)\n",
      "Requirement already satisfied: typing-extensions>=4.6.1 in /opt/anaconda3/lib/python3.12/site-packages (from pydantic<3.0.0,>=2.6.4->open-interpreter) (4.11.0)\n",
      "Requirement already satisfied: markdown-it-py>=2.2.0 in /opt/anaconda3/lib/python3.12/site-packages (from rich<14.0.0,>=13.4.2->open-interpreter) (2.2.0)\n",
      "Requirement already satisfied: pygments<3.0.0,>=2.13.0 in /opt/anaconda3/lib/python3.12/site-packages (from rich<14.0.0,>=13.4.2->open-interpreter) (2.15.1)\n",
      "Requirement already satisfied: wcwidth>=0.1.4 in /opt/anaconda3/lib/python3.12/site-packages (from blessed>=1.19.0->inquirer<4.0.0,>=3.1.3->open-interpreter) (0.2.5)\n",
      "Collecting runs (from editor>=1.6.0->inquirer<4.0.0,>=3.1.3->open-interpreter)\n",
      "  Downloading runs-1.2.2-py3-none-any.whl.metadata (10 kB)\n",
      "Collecting xmod (from editor>=1.6.0->inquirer<4.0.0,>=3.1.3->open-interpreter)\n",
      "  Downloading xmod-1.8.1-py3-none-any.whl.metadata (1.8 kB)\n",
      "Requirement already satisfied: zipp>=0.5 in /opt/anaconda3/lib/python3.12/site-packages (from importlib-metadata>=6.8.0->litellm<2.0.0,>=1.35.32->open-interpreter) (3.17.0)\n",
      "Requirement already satisfied: decorator in /opt/anaconda3/lib/python3.12/site-packages (from ipython>=7.23.1->ipykernel<7.0.0,>=6.26.0->open-interpreter) (5.1.1)\n",
      "Requirement already satisfied: jedi>=0.16 in /opt/anaconda3/lib/python3.12/site-packages (from ipython>=7.23.1->ipykernel<7.0.0,>=6.26.0->open-interpreter) (0.18.1)\n",
      "Requirement already satisfied: prompt-toolkit<3.1.0,>=3.0.41 in /opt/anaconda3/lib/python3.12/site-packages (from ipython>=7.23.1->ipykernel<7.0.0,>=6.26.0->open-interpreter) (3.0.43)\n",
      "Requirement already satisfied: stack-data in /opt/anaconda3/lib/python3.12/site-packages (from ipython>=7.23.1->ipykernel<7.0.0,>=6.26.0->open-interpreter) (0.2.0)\n",
      "Requirement already satisfied: pexpect>4.3 in /opt/anaconda3/lib/python3.12/site-packages (from ipython>=7.23.1->ipykernel<7.0.0,>=6.26.0->open-interpreter) (4.8.0)\n",
      "Requirement already satisfied: MarkupSafe>=2.0 in /opt/anaconda3/lib/python3.12/site-packages (from jinja2<4.0.0,>=3.1.2->litellm<2.0.0,>=1.35.32->open-interpreter) (2.1.3)\n",
      "Requirement already satisfied: mdurl~=0.1 in /opt/anaconda3/lib/python3.12/site-packages (from markdown-it-py>=2.2.0->rich<14.0.0,>=13.4.2->open-interpreter) (0.1.0)\n",
      "Requirement already satisfied: anyio<5,>=3.5.0 in /opt/anaconda3/lib/python3.12/site-packages (from openai>=1.27.0->litellm<2.0.0,>=1.35.32->open-interpreter) (4.2.0)\n",
      "Requirement already satisfied: distro<2,>=1.7.0 in /opt/anaconda3/lib/python3.12/site-packages (from openai>=1.27.0->litellm<2.0.0,>=1.35.32->open-interpreter) (1.9.0)\n",
      "Collecting httpx<1,>=0.23.0 (from openai>=1.27.0->litellm<2.0.0,>=1.35.32->open-interpreter)\n",
      "  Downloading httpx-0.27.0-py3-none-any.whl.metadata (7.2 kB)\n",
      "Requirement already satisfied: sniffio in /opt/anaconda3/lib/python3.12/site-packages (from openai>=1.27.0->litellm<2.0.0,>=1.35.32->open-interpreter) (1.3.0)\n",
      "Requirement already satisfied: charset-normalizer<4,>=2 in /opt/anaconda3/lib/python3.12/site-packages (from requests->html2image<3.0.0.0,>=2.0.4.3->open-interpreter) (2.0.4)\n",
      "Requirement already satisfied: idna<4,>=2.5 in /opt/anaconda3/lib/python3.12/site-packages (from requests->html2image<3.0.0.0,>=2.0.4.3->open-interpreter) (3.7)\n",
      "Requirement already satisfied: urllib3<3,>=1.21.1 in /opt/anaconda3/lib/python3.12/site-packages (from requests->html2image<3.0.0.0,>=2.0.4.3->open-interpreter) (2.2.2)\n",
      "Requirement already satisfied: certifi>=2017.4.17 in /opt/anaconda3/lib/python3.12/site-packages (from requests->html2image<3.0.0.0,>=2.0.4.3->open-interpreter) (2024.6.2)\n",
      "Requirement already satisfied: aiosignal>=1.1.2 in /opt/anaconda3/lib/python3.12/site-packages (from aiohttp->litellm<2.0.0,>=1.35.32->open-interpreter) (1.2.0)\n",
      "Requirement already satisfied: attrs>=17.3.0 in /opt/anaconda3/lib/python3.12/site-packages (from aiohttp->litellm<2.0.0,>=1.35.32->open-interpreter) (23.1.0)\n",
      "Requirement already satisfied: frozenlist>=1.1.1 in /opt/anaconda3/lib/python3.12/site-packages (from aiohttp->litellm<2.0.0,>=1.35.32->open-interpreter) (1.4.0)\n",
      "Requirement already satisfied: multidict<7.0,>=4.5 in /opt/anaconda3/lib/python3.12/site-packages (from aiohttp->litellm<2.0.0,>=1.35.32->open-interpreter) (6.0.4)\n",
      "Requirement already satisfied: yarl<2.0,>=1.0 in /opt/anaconda3/lib/python3.12/site-packages (from aiohttp->litellm<2.0.0,>=1.35.32->open-interpreter) (1.9.3)\n",
      "Requirement already satisfied: gitdb<5,>=4.0.1 in /opt/anaconda3/lib/python3.12/site-packages (from gitpython->git-python<2.0.0,>=1.0.3->open-interpreter) (4.0.7)\n",
      "Collecting huggingface-hub<1.0,>=0.16.4 (from tokenizers->litellm<2.0.0,>=1.35.32->open-interpreter)\n",
      "  Downloading huggingface_hub-0.24.1-py3-none-any.whl.metadata (13 kB)\n",
      "Requirement already satisfied: smmap<5,>=3.0.1 in /opt/anaconda3/lib/python3.12/site-packages (from gitdb<5,>=4.0.1->gitpython->git-python<2.0.0,>=1.0.3->open-interpreter) (4.0.0)\n",
      "Collecting httpcore==1.* (from httpx<1,>=0.23.0->openai>=1.27.0->litellm<2.0.0,>=1.35.32->open-interpreter)\n",
      "  Downloading httpcore-1.0.5-py3-none-any.whl.metadata (20 kB)\n",
      "Collecting h11<0.15,>=0.13 (from httpcore==1.*->httpx<1,>=0.23.0->openai>=1.27.0->litellm<2.0.0,>=1.35.32->open-interpreter)\n",
      "  Downloading h11-0.14.0-py3-none-any.whl.metadata (8.2 kB)\n",
      "Requirement already satisfied: filelock in /opt/anaconda3/lib/python3.12/site-packages (from huggingface-hub<1.0,>=0.16.4->tokenizers->litellm<2.0.0,>=1.35.32->open-interpreter) (3.13.1)\n",
      "Requirement already satisfied: fsspec>=2023.5.0 in /opt/anaconda3/lib/python3.12/site-packages (from huggingface-hub<1.0,>=0.16.4->tokenizers->litellm<2.0.0,>=1.35.32->open-interpreter) (2024.3.1)\n",
      "Requirement already satisfied: parso<0.9.0,>=0.8.0 in /opt/anaconda3/lib/python3.12/site-packages (from jedi>=0.16->ipython>=7.23.1->ipykernel<7.0.0,>=6.26.0->open-interpreter) (0.8.3)\n",
      "Requirement already satisfied: ptyprocess>=0.5 in /opt/anaconda3/lib/python3.12/site-packages (from pexpect>4.3->ipython>=7.23.1->ipykernel<7.0.0,>=6.26.0->open-interpreter) (0.7.0)\n",
      "Requirement already satisfied: executing in /opt/anaconda3/lib/python3.12/site-packages (from stack-data->ipython>=7.23.1->ipykernel<7.0.0,>=6.26.0->open-interpreter) (0.8.3)\n",
      "Requirement already satisfied: asttokens in /opt/anaconda3/lib/python3.12/site-packages (from stack-data->ipython>=7.23.1->ipykernel<7.0.0,>=6.26.0->open-interpreter) (2.0.5)\n",
      "Requirement already satisfied: pure-eval in /opt/anaconda3/lib/python3.12/site-packages (from stack-data->ipython>=7.23.1->ipykernel<7.0.0,>=6.26.0->open-interpreter) (0.2.2)\n",
      "Downloading open_interpreter-0.3.4-py3-none-any.whl (189 kB)\n",
      "\u001b[2K   \u001b[38;2;114;156;31m━━━━━━━━━━━━━━━━━━━━━━━━━━━━━━━━━━━━━━━━\u001b[0m \u001b[32m189.3/189.3 kB\u001b[0m \u001b[31m22.3 MB/s\u001b[0m eta \u001b[36m0:00:00\u001b[0m\n",
      "\u001b[?25hDownloading astor-0.8.1-py2.py3-none-any.whl (27 kB)\n",
      "Downloading git_python-1.0.3-py2.py3-none-any.whl (1.9 kB)\n",
      "Downloading html2image-2.0.4.3-py3-none-any.whl (27 kB)\n",
      "Downloading inquirer-3.3.0-py3-none-any.whl (18 kB)\n",
      "Downloading litellm-1.40.8-py3-none-any.whl (4.5 MB)\n",
      "\u001b[2K   \u001b[38;2;114;156;31m━━━━━━━━━━━━━━━━━━━━━━━━━━━━━━━━━━━━━━━━\u001b[0m \u001b[32m4.5/4.5 MB\u001b[0m \u001b[31m18.6 MB/s\u001b[0m eta \u001b[36m0:00:00\u001b[0m MB/s\u001b[0m eta \u001b[36m0:00:01\u001b[0m:01\u001b[0m\n",
      "\u001b[?25hDownloading platformdirs-4.2.2-py3-none-any.whl (18 kB)\n",
      "Downloading psutil-5.9.8-cp38-abi3-macosx_11_0_arm64.whl (249 kB)\n",
      "\u001b[2K   \u001b[38;2;114;156;31m━━━━━━━━━━━━━━━━━━━━━━━━━━━━━━━━━━━━━━━━\u001b[0m \u001b[32m249.9/249.9 kB\u001b[0m \u001b[31m11.5 MB/s\u001b[0m eta \u001b[36m0:00:00\u001b[0m31m40.8 MB/s\u001b[0m eta \u001b[36m0:00:01\u001b[0m\n",
      "\u001b[?25hDownloading pydantic-2.8.2-py3-none-any.whl (423 kB)\n",
      "\u001b[2K   \u001b[38;2;114;156;31m━━━━━━━━━━━━━━━━━━━━━━━━━━━━━━━━━━━━━━━━\u001b[0m \u001b[32m423.9/423.9 kB\u001b[0m \u001b[31m8.9 MB/s\u001b[0m eta \u001b[36m0:00:00\u001b[0m[31m11.0 MB/s\u001b[0m eta \u001b[36m0:00:01\u001b[0m\n",
      "\u001b[?25hDownloading pydantic_core-2.20.1-cp312-cp312-macosx_11_0_arm64.whl (1.8 MB)\n",
      "\u001b[2K   \u001b[38;2;114;156;31m━━━━━━━━━━━━━━━━━━━━━━━━━━━━━━━━━━━━━━━━\u001b[0m \u001b[32m1.8/1.8 MB\u001b[0m \u001b[31m25.6 MB/s\u001b[0m eta \u001b[36m0:00:00\u001b[0m MB/s\u001b[0m eta \u001b[36m0:00:01\u001b[0m\n",
      "\u001b[?25hDownloading rich-13.7.1-py3-none-any.whl (240 kB)\n",
      "\u001b[2K   \u001b[38;2;114;156;31m━━━━━━━━━━━━━━━━━━━━━━━━━━━━━━━━━━━━━━━━\u001b[0m \u001b[32m240.7/240.7 kB\u001b[0m \u001b[31m10.2 MB/s\u001b[0m eta \u001b[36m0:00:00\u001b[0m\n",
      "\u001b[?25hDownloading tiktoken-0.6.0-cp312-cp312-macosx_11_0_arm64.whl (922 kB)\n",
      "\u001b[2K   \u001b[38;2;114;156;31m━━━━━━━━━━━━━━━━━━━━━━━━━━━━━━━━━━━━━━━━\u001b[0m \u001b[32m922.4/922.4 kB\u001b[0m \u001b[31m24.2 MB/s\u001b[0m eta \u001b[36m0:00:00\u001b[0m\n",
      "\u001b[?25hDownloading tokentrim-0.1.13-py3-none-any.whl (7.8 kB)\n",
      "Downloading blessed-1.20.0-py2.py3-none-any.whl (58 kB)\n",
      "\u001b[2K   \u001b[38;2;114;156;31m━━━━━━━━━━━━━━━━━━━━━━━━━━━━━━━━━━━━━━━━\u001b[0m \u001b[32m58.4/58.4 kB\u001b[0m \u001b[31m4.1 MB/s\u001b[0m eta \u001b[36m0:00:00\u001b[0m\n",
      "\u001b[?25hDownloading editor-1.6.6-py3-none-any.whl (4.0 kB)\n",
      "Downloading openai-1.37.0-py3-none-any.whl (337 kB)\n",
      "\u001b[2K   \u001b[38;2;114;156;31m━━━━━━━━━━━━━━━━━━━━━━━━━━━━━━━━━━━━━━━━\u001b[0m \u001b[32m337.0/337.0 kB\u001b[0m \u001b[31m33.8 MB/s\u001b[0m eta \u001b[36m0:00:00\u001b[0m\n",
      "\u001b[?25hDownloading readchar-4.1.0-py3-none-any.whl (9.1 kB)\n",
      "Downloading tokenizers-0.19.1-cp312-cp312-macosx_11_0_arm64.whl (2.4 MB)\n",
      "\u001b[2K   \u001b[38;2;114;156;31m━━━━━━━━━━━━━━━━━━━━━━━━━━━━━━━━━━━━━━━━\u001b[0m \u001b[32m2.4/2.4 MB\u001b[0m \u001b[31m26.3 MB/s\u001b[0m eta \u001b[36m0:00:00\u001b[0m31m27.8 MB/s\u001b[0m eta \u001b[36m0:00:01\u001b[0m\n",
      "\u001b[?25hDownloading httpx-0.27.0-py3-none-any.whl (75 kB)\n",
      "\u001b[2K   \u001b[38;2;114;156;31m━━━━━━━━━━━━━━━━━━━━━━━━━━━━━━━━━━━━━━━━\u001b[0m \u001b[32m75.6/75.6 kB\u001b[0m \u001b[31m9.3 MB/s\u001b[0m eta \u001b[36m0:00:00\u001b[0m\n",
      "\u001b[?25hDownloading httpcore-1.0.5-py3-none-any.whl (77 kB)\n",
      "\u001b[2K   \u001b[38;2;114;156;31m━━━━━━━━━━━━━━━━━━━━━━━━━━━━━━━━━━━━━━━━\u001b[0m \u001b[32m77.9/77.9 kB\u001b[0m \u001b[31m9.9 MB/s\u001b[0m eta \u001b[36m0:00:00\u001b[0m\n",
      "\u001b[?25hDownloading huggingface_hub-0.24.1-py3-none-any.whl (417 kB)\n",
      "\u001b[2K   \u001b[38;2;114;156;31m━━━━━━━━━━━━━━━━━━━━━━━━━━━━━━━━━━━━━━━━\u001b[0m \u001b[32m417.2/417.2 kB\u001b[0m \u001b[31m16.1 MB/s\u001b[0m eta \u001b[36m0:00:00\u001b[0m\n",
      "\u001b[?25hDownloading runs-1.2.2-py3-none-any.whl (7.0 kB)\n",
      "Downloading xmod-1.8.1-py3-none-any.whl (4.6 kB)\n",
      "Downloading h11-0.14.0-py3-none-any.whl (58 kB)\n",
      "\u001b[2K   \u001b[38;2;114;156;31m━━━━━━━━━━━━━━━━━━━━━━━━━━━━━━━━━━━━━━━━\u001b[0m \u001b[32m58.3/58.3 kB\u001b[0m \u001b[31m4.8 MB/s\u001b[0m eta \u001b[36m0:00:00\u001b[0m\n",
      "\u001b[?25hBuilding wheels for collected packages: wget\n",
      "  Building wheel for wget (setup.py) ... \u001b[?25ldone\n",
      "\u001b[?25h  Created wheel for wget: filename=wget-3.2-py3-none-any.whl size=9656 sha256=3e701ee080f74ce4a1390836050470791a7c2965ae7b9ad6c225c852e45f4335\n",
      "  Stored in directory: /Users/kingjames/Library/Caches/pip/wheels/01/46/3b/e29ffbe4ebe614ff224bad40fc6a5773a67a163251585a13a9\n",
      "Successfully built wget\n",
      "Installing collected packages: wget, xmod, readchar, pydantic-core, psutil, platformdirs, h11, blessed, astor, tiktoken, runs, rich, pydantic, huggingface-hub, httpcore, html2image, tokentrim, tokenizers, httpx, git-python, editor, openai, inquirer, litellm, open-interpreter\n",
      "  Attempting uninstall: pydantic-core\n",
      "    Found existing installation: pydantic_core 2.14.6\n",
      "    Uninstalling pydantic_core-2.14.6:\n",
      "      Successfully uninstalled pydantic_core-2.14.6\n",
      "  Attempting uninstall: psutil\n",
      "    Found existing installation: psutil 5.9.0\n",
      "    Uninstalling psutil-5.9.0:\n",
      "      Successfully uninstalled psutil-5.9.0\n",
      "  Attempting uninstall: platformdirs\n",
      "    Found existing installation: platformdirs 3.10.0\n",
      "    Uninstalling platformdirs-3.10.0:\n",
      "      Successfully uninstalled platformdirs-3.10.0\n",
      "  Attempting uninstall: rich\n",
      "    Found existing installation: rich 13.3.5\n",
      "    Uninstalling rich-13.3.5:\n",
      "      Successfully uninstalled rich-13.3.5\n",
      "  Attempting uninstall: pydantic\n",
      "    Found existing installation: pydantic 2.5.3\n",
      "    Uninstalling pydantic-2.5.3:\n",
      "      Successfully uninstalled pydantic-2.5.3\n",
      "Successfully installed astor-0.8.1 blessed-1.20.0 editor-1.6.6 git-python-1.0.3 h11-0.14.0 html2image-2.0.4.3 httpcore-1.0.5 httpx-0.27.0 huggingface-hub-0.24.1 inquirer-3.3.0 litellm-1.40.8 open-interpreter-0.3.4 openai-1.37.0 platformdirs-4.2.2 psutil-5.9.8 pydantic-2.8.2 pydantic-core-2.20.1 readchar-4.1.0 rich-13.7.1 runs-1.2.2 tiktoken-0.6.0 tokenizers-0.19.1 tokentrim-0.1.13 wget-3.2 xmod-1.8.1\n"
     ]
    }
   ],
   "source": [
    "!pip install open-interpreter"
   ]
  },
  {
   "cell_type": "code",
   "execution_count": 34,
   "id": "50b5c4d6-ab7e-4e15-b136-4639923d9c43",
   "metadata": {},
   "outputs": [],
   "source": [
    "from interpreter import OpenInterpreter\n",
    "import openai"
   ]
  },
  {
   "cell_type": "code",
   "execution_count": 2,
   "id": "8a0faf0e-b4b2-45cb-80b5-72389d866977",
   "metadata": {},
   "outputs": [],
   "source": [
    "def print_agent_attrs(agent):\n",
    "    # Get the dictionary of attributes\n",
    "    attributes = agent.__dict__\n",
    "    \n",
    "    # Create a list of tuples containing key and type of value\n",
    "    attributes_with_types = [(key, type(value).__name__) for key, value in attributes.items()]\n",
    "    \n",
    "    # Print the result\n",
    "    for key, value_type in attributes_with_types:\n",
    "        print(f\"{key}: {value_type}\")"
   ]
  },
  {
   "cell_type": "code",
   "execution_count": 41,
   "id": "cfffd372-0e11-4dba-aed1-296f83d23684",
   "metadata": {},
   "outputs": [],
   "source": [
    "def util_read_file(filename):\n",
    "    with open(filename, 'r') as f:\n",
    "        content = f.read()\n",
    "    return content\n",
    "\n",
    "def get_prompt(name):\n",
    "    filepath = f\"prompts/{name}.txt\"\n",
    "    return util_read_file(filepath)\n",
    "\n",
    "def get_current_task():\n",
    "    return util_read_file(\"current_task.txt\")"
   ]
  },
  {
   "cell_type": "code",
   "execution_count": 4,
   "id": "e0d15747-0413-49c7-93eb-560452f27a65",
   "metadata": {},
   "outputs": [],
   "source": [
    "import time\n",
    "\n",
    "class FIFOQueue:\n",
    "    def __init__(self):\n",
    "        self.queue = []\n",
    "\n",
    "    def enqueue(self, items):\n",
    "        timestamp = time.time()\n",
    "        if not isinstance(items, list):\n",
    "            items = [items]\n",
    "        self.queue.append({\"timestamp\": timestamp, \"messages\": items})\n",
    "\n",
    "    def dequeue(self):\n",
    "        if not self.is_empty():\n",
    "            return self.queue.pop(0)\n",
    "        else:\n",
    "            raise IndexError(\"Dequeue from an empty queue\")\n",
    "\n",
    "    def is_empty(self):\n",
    "        return len(self.queue) == 0\n",
    "\n",
    "    def size(self):\n",
    "        return len(self.queue)\n"
   ]
  },
  {
   "cell_type": "code",
   "execution_count": 51,
   "id": "9d0c22a5-ca5d-4c36-9b48-7b4309322cd1",
   "metadata": {},
   "outputs": [],
   "source": [
    "import openai\n",
    "import os\n",
    "\n",
    "class Agent:\n",
    "    def __init__(self, name, special_commands=\"\", mode=\"OpenInterpreter\", context_window=128000, max_tokens=10000):\n",
    "        self.name = name\n",
    "        self.states = [\"SPECTATE\", \"MUTATE\", \"DICTATE\"]\n",
    "        self.state = \"SPECTATE\"\n",
    "        self.inbox = FIFOQueue()\n",
    "        self.internal_state = []\n",
    "        self.mode = mode\n",
    "        self.model = \"gpt-4o-mini\"\n",
    "        self.context_window = context_window\n",
    "        self.max_tokens = max_tokens\n",
    "        self.generated_new_messages = []\n",
    "        self.most_recently_received_messages = []\n",
    "        self.other_agents = []\n",
    "\n",
    "        if self.mode == \"OpenInterpreter\":\n",
    "            self.oi = OpenInterpreter()\n",
    "            self.oi.llm.model = self.model\n",
    "            self.oi.llm.context_window = self.context_window\n",
    "            self.oi.llm.max_tokens = self.max_tokens\n",
    "            self.oi.system_message += special_commands\n",
    "            self.system_message = self.oi.system_message\n",
    "            self.oi.auto_run = True\n",
    "            self.oi.loop = True\n",
    "        elif self.mode == \"OpenAI\":\n",
    "            self.system_message = special_commands\n",
    "\n",
    "    def add_other_agent(self, agent):\n",
    "        self.other_agents.append(agent)\n",
    "\n",
    "    def handle_state(self):\n",
    "        print(f\"[{self.name}] Current State: {self.state}\")\n",
    "\n",
    "        if self.state == \"SPECTATE\":\n",
    "            if not self.inbox.is_empty():\n",
    "                self.most_recently_received_messages = self.inbox.dequeue()[\"messages\"]\n",
    "                print(f\"[{self.name}] Received message(s)\")\n",
    "                self.state = \"MUTATE\"\n",
    "\n",
    "        elif self.state == \"MUTATE\":\n",
    "            self.internal_state.extend(self.most_recently_received_messages)\n",
    "            print(f\"[{self.name}] Internal state mutated\")\n",
    "            messages = [{\"role\": \"user\", \"content\": msg[\"content\"], \"type\": \"message\"} for msg in self.most_recently_received_messages]\n",
    "            if self.mode == \"OpenInterpreter\":\n",
    "                self.generated_new_messages = self.oi.chat(messages, display=True, stream=False, blocking=True)\n",
    "            elif self.mode == \"OpenAI\":\n",
    "                self.generated_new_messages = self.openai_chat(messages)\n",
    "            print(f\"[{self.name}] Generated new message(s)\")\n",
    "            if self.mode == \"OpenAI\":\n",
    "                print(f\"[{self.name}] New message(s): {self.generated_new_messages}\")\n",
    "            self.state = \"DICTATE\"\n",
    "\n",
    "        elif self.state == \"DICTATE\":\n",
    "            self.send_message_to_agents(self.generated_new_messages)\n",
    "            self.generated_new_messages = []\n",
    "            self.most_recently_received_messages = []\n",
    "            self.state = \"SPECTATE\"\n",
    "\n",
    "        print(f\"[{self.name}] New State: {self.state}\")\n",
    "\n",
    "    def mutate_state(self, internal_state):\n",
    "        internal_state.append({'mutated': True})\n",
    "        print(f\"[{self.name}] Internal state mutated\")\n",
    "        return internal_state\n",
    "\n",
    "    def send_message_to_agents(self, messages):\n",
    "        for agent in self.other_agents:\n",
    "            agent.inbox.enqueue(messages)\n",
    "            print(f\"[{self.name}] Sent message to {agent.name}\")\n",
    "\n",
    "    def swap_roles(self, messages):\n",
    "        for message in messages:\n",
    "            if message['role'] == 'user':\n",
    "                message['role'] = 'assistant'\n",
    "            elif message['role'] == 'assistant':\n",
    "                message['role'] = 'user'\n",
    "        return messages\n",
    "\n",
    "    def openai_chat(self, messages):\n",
    "        if self.mode != \"OpenAI\":\n",
    "            return None\n",
    "            \n",
    "        response_content = OpenAI().chat.completions.create(\n",
    "            model=self.model,\n",
    "            max_tokens=self.max_tokens,\n",
    "            messages=[\n",
    "                {\n",
    "                    \"role\":\"system\",\n",
    "                    \"content\": self.system_message\n",
    "                },\n",
    "                *messages\n",
    "            ],\n",
    "        ).choices[0].message.content\n",
    "        return [{\"role\":\"assistant\", \"content\": response_content, \"type\": \"message\"}]\n",
    "\n"
   ]
  },
  {
   "cell_type": "code",
   "execution_count": null,
   "id": "1c66b932-01bf-428e-9f9e-1521ec9f41ed",
   "metadata": {},
   "outputs": [
    {
     "name": "stdout",
     "output_type": "stream",
     "text": [
      "[Roadmap Architect] Current State: SPECTATE\n",
      "[Roadmap Architect] Received message(s)\n",
      "[Roadmap Architect] New State: MUTATE\n",
      "[Project Manager] Current State: SPECTATE\n",
      "[Project Manager] New State: SPECTATE\n",
      "[Software Developer] Current State: SPECTATE\n",
      "[Software Developer] New State: SPECTATE\n",
      "[Roadmap Architect] Current State: MUTATE\n",
      "[Roadmap Architect] Internal state mutated\n"
     ]
    },
    {
     "data": {
      "application/vnd.jupyter.widget-view+json": {
       "model_id": "338f6305a7254890a6e4643b292a0530",
       "version_major": 2,
       "version_minor": 0
      },
      "text/plain": [
       "Output()"
      ]
     },
     "metadata": {},
     "output_type": "display_data"
    },
    {
     "data": {
      "text/html": [
       "<pre style=\"white-space:pre;overflow-x:auto;line-height:normal;font-family:Menlo,'DejaVu Sans Mono',consolas,'Courier New',monospace\"></pre>\n"
      ],
      "text/plain": []
     },
     "metadata": {},
     "output_type": "display_data"
    },
    {
     "data": {
      "application/vnd.jupyter.widget-view+json": {
       "model_id": "a5a4b2fb78c74897960d35b6595d9321",
       "version_major": 2,
       "version_minor": 0
      },
      "text/plain": [
       "Output()"
      ]
     },
     "metadata": {},
     "output_type": "display_data"
    },
    {
     "data": {
      "text/html": [
       "<pre style=\"white-space:pre;overflow-x:auto;line-height:normal;font-family:Menlo,'DejaVu Sans Mono',consolas,'Courier New',monospace\"></pre>\n"
      ],
      "text/plain": []
     },
     "metadata": {},
     "output_type": "display_data"
    },
    {
     "data": {
      "application/vnd.jupyter.widget-view+json": {
       "model_id": "082712cfcb15445cb0d3b7979efe7dc3",
       "version_major": 2,
       "version_minor": 0
      },
      "text/plain": [
       "Output()"
      ]
     },
     "metadata": {},
     "output_type": "display_data"
    },
    {
     "data": {
      "text/html": [
       "<pre style=\"white-space:pre;overflow-x:auto;line-height:normal;font-family:Menlo,'DejaVu Sans Mono',consolas,'Courier New',monospace\"></pre>\n"
      ],
      "text/plain": []
     },
     "metadata": {},
     "output_type": "display_data"
    },
    {
     "name": "stdout",
     "output_type": "stream",
     "text": [
      "[Roadmap Architect] Generated new message(s)\n",
      "[Roadmap Architect] New State: DICTATE\n",
      "[Project Manager] Current State: SPECTATE\n",
      "[Project Manager] New State: SPECTATE\n",
      "[Software Developer] Current State: SPECTATE\n",
      "[Software Developer] New State: SPECTATE\n",
      "[Roadmap Architect] Current State: DICTATE\n",
      "[Roadmap Architect] Sent message to Project Manager\n",
      "[Roadmap Architect] New State: SPECTATE\n",
      "[Project Manager] Current State: SPECTATE\n",
      "[Project Manager] Received message(s)\n",
      "[Project Manager] New State: MUTATE\n",
      "[Software Developer] Current State: SPECTATE\n",
      "[Software Developer] New State: SPECTATE\n",
      "[Roadmap Architect] Current State: SPECTATE\n",
      "[Roadmap Architect] New State: SPECTATE\n",
      "[Project Manager] Current State: MUTATE\n",
      "[Project Manager] Internal state mutated\n"
     ]
    },
    {
     "data": {
      "application/vnd.jupyter.widget-view+json": {
       "model_id": "b552ef3077f344c7a20efdfa86a32a50",
       "version_major": 2,
       "version_minor": 0
      },
      "text/plain": [
       "Output()"
      ]
     },
     "metadata": {},
     "output_type": "display_data"
    },
    {
     "data": {
      "text/html": [
       "<pre style=\"white-space:pre;overflow-x:auto;line-height:normal;font-family:Menlo,'DejaVu Sans Mono',consolas,'Courier New',monospace\"></pre>\n"
      ],
      "text/plain": []
     },
     "metadata": {},
     "output_type": "display_data"
    },
    {
     "data": {
      "application/vnd.jupyter.widget-view+json": {
       "model_id": "d5279457e2604ae29b35bba4890f2f00",
       "version_major": 2,
       "version_minor": 0
      },
      "text/plain": [
       "Output()"
      ]
     },
     "metadata": {},
     "output_type": "display_data"
    },
    {
     "data": {
      "text/html": [
       "<pre style=\"white-space:pre;overflow-x:auto;line-height:normal;font-family:Menlo,'DejaVu Sans Mono',consolas,'Courier New',monospace\"></pre>\n"
      ],
      "text/plain": []
     },
     "metadata": {},
     "output_type": "display_data"
    },
    {
     "data": {
      "application/vnd.jupyter.widget-view+json": {
       "model_id": "4fc5f2f547cd4a0191c80923d4d07029",
       "version_major": 2,
       "version_minor": 0
      },
      "text/plain": [
       "Output()"
      ]
     },
     "metadata": {},
     "output_type": "display_data"
    },
    {
     "data": {
      "text/html": [
       "<pre style=\"white-space:pre;overflow-x:auto;line-height:normal;font-family:Menlo,'DejaVu Sans Mono',consolas,'Courier New',monospace\"></pre>\n"
      ],
      "text/plain": []
     },
     "metadata": {},
     "output_type": "display_data"
    },
    {
     "data": {
      "application/vnd.jupyter.widget-view+json": {
       "model_id": "cc975aa0a977467191d62a0df531416a",
       "version_major": 2,
       "version_minor": 0
      },
      "text/plain": [
       "Output()"
      ]
     },
     "metadata": {},
     "output_type": "display_data"
    },
    {
     "data": {
      "text/html": [
       "<pre style=\"white-space:pre;overflow-x:auto;line-height:normal;font-family:Menlo,'DejaVu Sans Mono',consolas,'Courier New',monospace\"></pre>\n"
      ],
      "text/plain": []
     },
     "metadata": {},
     "output_type": "display_data"
    },
    {
     "data": {
      "application/vnd.jupyter.widget-view+json": {
       "model_id": "b0be1d692fe84cd48bf5831a03833178",
       "version_major": 2,
       "version_minor": 0
      },
      "text/plain": [
       "Output()"
      ]
     },
     "metadata": {},
     "output_type": "display_data"
    },
    {
     "data": {
      "text/html": [
       "<pre style=\"white-space:pre;overflow-x:auto;line-height:normal;font-family:Menlo,'DejaVu Sans Mono',consolas,'Courier New',monospace\"></pre>\n"
      ],
      "text/plain": []
     },
     "metadata": {},
     "output_type": "display_data"
    },
    {
     "data": {
      "application/vnd.jupyter.widget-view+json": {
       "model_id": "65ae6e5097f746b3a72663672bb141f7",
       "version_major": 2,
       "version_minor": 0
      },
      "text/plain": [
       "Output()"
      ]
     },
     "metadata": {},
     "output_type": "display_data"
    },
    {
     "data": {
      "text/html": [
       "<pre style=\"white-space:pre;overflow-x:auto;line-height:normal;font-family:Menlo,'DejaVu Sans Mono',consolas,'Courier New',monospace\"></pre>\n"
      ],
      "text/plain": []
     },
     "metadata": {},
     "output_type": "display_data"
    },
    {
     "data": {
      "application/vnd.jupyter.widget-view+json": {
       "model_id": "63539e52b75246e4b50d40bebe842797",
       "version_major": 2,
       "version_minor": 0
      },
      "text/plain": [
       "Output()"
      ]
     },
     "metadata": {},
     "output_type": "display_data"
    },
    {
     "data": {
      "text/html": [
       "<pre style=\"white-space:pre;overflow-x:auto;line-height:normal;font-family:Menlo,'DejaVu Sans Mono',consolas,'Courier New',monospace\"></pre>\n"
      ],
      "text/plain": []
     },
     "metadata": {},
     "output_type": "display_data"
    },
    {
     "data": {
      "application/vnd.jupyter.widget-view+json": {
       "model_id": "f67d5e910d514e888862a14410862a5e",
       "version_major": 2,
       "version_minor": 0
      },
      "text/plain": [
       "Output()"
      ]
     },
     "metadata": {},
     "output_type": "display_data"
    },
    {
     "data": {
      "text/html": [
       "<pre style=\"white-space:pre;overflow-x:auto;line-height:normal;font-family:Menlo,'DejaVu Sans Mono',consolas,'Courier New',monospace\"></pre>\n"
      ],
      "text/plain": []
     },
     "metadata": {},
     "output_type": "display_data"
    },
    {
     "data": {
      "application/vnd.jupyter.widget-view+json": {
       "model_id": "4a51b90e43614379bf9aa809e42092fb",
       "version_major": 2,
       "version_minor": 0
      },
      "text/plain": [
       "Output()"
      ]
     },
     "metadata": {},
     "output_type": "display_data"
    },
    {
     "data": {
      "text/html": [
       "<pre style=\"white-space:pre;overflow-x:auto;line-height:normal;font-family:Menlo,'DejaVu Sans Mono',consolas,'Courier New',monospace\"></pre>\n"
      ],
      "text/plain": []
     },
     "metadata": {},
     "output_type": "display_data"
    },
    {
     "data": {
      "application/vnd.jupyter.widget-view+json": {
       "model_id": "685b4b36e04541ed91a10bbaf046206f",
       "version_major": 2,
       "version_minor": 0
      },
      "text/plain": [
       "Output()"
      ]
     },
     "metadata": {},
     "output_type": "display_data"
    },
    {
     "data": {
      "text/html": [
       "<pre style=\"white-space:pre;overflow-x:auto;line-height:normal;font-family:Menlo,'DejaVu Sans Mono',consolas,'Courier New',monospace\"></pre>\n"
      ],
      "text/plain": []
     },
     "metadata": {},
     "output_type": "display_data"
    },
    {
     "data": {
      "application/vnd.jupyter.widget-view+json": {
       "model_id": "e3c210ad36814b9084fbe9478654938e",
       "version_major": 2,
       "version_minor": 0
      },
      "text/plain": [
       "Output()"
      ]
     },
     "metadata": {},
     "output_type": "display_data"
    },
    {
     "data": {
      "text/html": [
       "<pre style=\"white-space:pre;overflow-x:auto;line-height:normal;font-family:Menlo,'DejaVu Sans Mono',consolas,'Courier New',monospace\"></pre>\n"
      ],
      "text/plain": []
     },
     "metadata": {},
     "output_type": "display_data"
    },
    {
     "data": {
      "application/vnd.jupyter.widget-view+json": {
       "model_id": "f01be85b0c3d41e9b6e8cf11903e74f2",
       "version_major": 2,
       "version_minor": 0
      },
      "text/plain": [
       "Output()"
      ]
     },
     "metadata": {},
     "output_type": "display_data"
    },
    {
     "data": {
      "text/html": [
       "<pre style=\"white-space:pre;overflow-x:auto;line-height:normal;font-family:Menlo,'DejaVu Sans Mono',consolas,'Courier New',monospace\"></pre>\n"
      ],
      "text/plain": []
     },
     "metadata": {},
     "output_type": "display_data"
    },
    {
     "data": {
      "application/vnd.jupyter.widget-view+json": {
       "model_id": "fc1f93defb3841a6bd228e5945938c8f",
       "version_major": 2,
       "version_minor": 0
      },
      "text/plain": [
       "Output()"
      ]
     },
     "metadata": {},
     "output_type": "display_data"
    },
    {
     "data": {
      "text/html": [
       "<pre style=\"white-space:pre;overflow-x:auto;line-height:normal;font-family:Menlo,'DejaVu Sans Mono',consolas,'Courier New',monospace\"></pre>\n"
      ],
      "text/plain": []
     },
     "metadata": {},
     "output_type": "display_data"
    },
    {
     "data": {
      "application/vnd.jupyter.widget-view+json": {
       "model_id": "d9ef20686b8a45b7a8197e0566f205ac",
       "version_major": 2,
       "version_minor": 0
      },
      "text/plain": [
       "Output()"
      ]
     },
     "metadata": {},
     "output_type": "display_data"
    },
    {
     "data": {
      "text/html": [
       "<pre style=\"white-space:pre;overflow-x:auto;line-height:normal;font-family:Menlo,'DejaVu Sans Mono',consolas,'Courier New',monospace\"></pre>\n"
      ],
      "text/plain": []
     },
     "metadata": {},
     "output_type": "display_data"
    },
    {
     "data": {
      "application/vnd.jupyter.widget-view+json": {
       "model_id": "d6696ad248fb497c8f7e78beccb335e1",
       "version_major": 2,
       "version_minor": 0
      },
      "text/plain": [
       "Output()"
      ]
     },
     "metadata": {},
     "output_type": "display_data"
    },
    {
     "data": {
      "text/html": [
       "<pre style=\"white-space:pre;overflow-x:auto;line-height:normal;font-family:Menlo,'DejaVu Sans Mono',consolas,'Courier New',monospace\"></pre>\n"
      ],
      "text/plain": []
     },
     "metadata": {},
     "output_type": "display_data"
    },
    {
     "data": {
      "application/vnd.jupyter.widget-view+json": {
       "model_id": "b618be3384914f77b1cc219b0aa96651",
       "version_major": 2,
       "version_minor": 0
      },
      "text/plain": [
       "Output()"
      ]
     },
     "metadata": {},
     "output_type": "display_data"
    },
    {
     "data": {
      "text/html": [
       "<pre style=\"white-space:pre;overflow-x:auto;line-height:normal;font-family:Menlo,'DejaVu Sans Mono',consolas,'Courier New',monospace\"></pre>\n"
      ],
      "text/plain": []
     },
     "metadata": {},
     "output_type": "display_data"
    },
    {
     "data": {
      "application/vnd.jupyter.widget-view+json": {
       "model_id": "ae7c9c56b6f4467fb5471a08c4949583",
       "version_major": 2,
       "version_minor": 0
      },
      "text/plain": [
       "Output()"
      ]
     },
     "metadata": {},
     "output_type": "display_data"
    },
    {
     "data": {
      "text/html": [
       "<pre style=\"white-space:pre;overflow-x:auto;line-height:normal;font-family:Menlo,'DejaVu Sans Mono',consolas,'Courier New',monospace\"></pre>\n"
      ],
      "text/plain": []
     },
     "metadata": {},
     "output_type": "display_data"
    },
    {
     "data": {
      "application/vnd.jupyter.widget-view+json": {
       "model_id": "ce34abdc3ae248dc91115504c95fa86b",
       "version_major": 2,
       "version_minor": 0
      },
      "text/plain": [
       "Output()"
      ]
     },
     "metadata": {},
     "output_type": "display_data"
    },
    {
     "data": {
      "text/html": [
       "<pre style=\"white-space:pre;overflow-x:auto;line-height:normal;font-family:Menlo,'DejaVu Sans Mono',consolas,'Courier New',monospace\"></pre>\n"
      ],
      "text/plain": []
     },
     "metadata": {},
     "output_type": "display_data"
    },
    {
     "data": {
      "application/vnd.jupyter.widget-view+json": {
       "model_id": "f0248a8c878e466cb181be26274535c6",
       "version_major": 2,
       "version_minor": 0
      },
      "text/plain": [
       "Output()"
      ]
     },
     "metadata": {},
     "output_type": "display_data"
    },
    {
     "data": {
      "text/html": [
       "<pre style=\"white-space:pre;overflow-x:auto;line-height:normal;font-family:Menlo,'DejaVu Sans Mono',consolas,'Courier New',monospace\"></pre>\n"
      ],
      "text/plain": []
     },
     "metadata": {},
     "output_type": "display_data"
    },
    {
     "data": {
      "application/vnd.jupyter.widget-view+json": {
       "model_id": "4295a86e8f0b41b9b16479c441b6e41f",
       "version_major": 2,
       "version_minor": 0
      },
      "text/plain": [
       "Output()"
      ]
     },
     "metadata": {},
     "output_type": "display_data"
    },
    {
     "data": {
      "text/html": [
       "<pre style=\"white-space:pre;overflow-x:auto;line-height:normal;font-family:Menlo,'DejaVu Sans Mono',consolas,'Courier New',monospace\"></pre>\n"
      ],
      "text/plain": []
     },
     "metadata": {},
     "output_type": "display_data"
    },
    {
     "data": {
      "application/vnd.jupyter.widget-view+json": {
       "model_id": "dce20d5c0c094aa9b5ac81dd5f7afef5",
       "version_major": 2,
       "version_minor": 0
      },
      "text/plain": [
       "Output()"
      ]
     },
     "metadata": {},
     "output_type": "display_data"
    },
    {
     "data": {
      "text/html": [
       "<pre style=\"white-space:pre;overflow-x:auto;line-height:normal;font-family:Menlo,'DejaVu Sans Mono',consolas,'Courier New',monospace\"></pre>\n"
      ],
      "text/plain": []
     },
     "metadata": {},
     "output_type": "display_data"
    },
    {
     "data": {
      "application/vnd.jupyter.widget-view+json": {
       "model_id": "72c97dbe287849ea9784ee8b88257bf5",
       "version_major": 2,
       "version_minor": 0
      },
      "text/plain": [
       "Output()"
      ]
     },
     "metadata": {},
     "output_type": "display_data"
    }
   ],
   "source": [
    "\n",
    "roadmapper = Agent(\"Roadmap Architect\", get_prompt(\"roadmapper\"))\n",
    "pm = Agent(\"Project Manager\", get_prompt(\"manager\"))\n",
    "dev = Agent(\"Software Developer\", get_prompt(\"dev\"))\n",
    "\n",
    "roadmapper.add_other_agent(pm)\n",
    "pm.add_other_agent(dev)\n",
    "dev.add_other_agent(pm)\n",
    "\n",
    "roadmapper.inbox.enqueue(\n",
    "    [{\"role\": \"user\", \"content\": f\"Here is the content of the email_exchange.txt file: \\n\\n {util_read_file(\"email_exchange.txt\")}\", \"type\": \"message\"},\n",
    "    {\"role\": \"user\", \"content\": f\"Here is the content of the project_description.txt file: \\n\\n {util_read_file(\"project_description.txt\")}\", \"type\": \"message\"},\n",
    "    {\"role\": \"user\", \"content\": \"Please proceed to update the roadmap.json file\", \"type\": \"message\"}])\n",
    "\n",
    "# Run the state handler function to control the agents in a loop\n",
    "for _ in range(100):\n",
    "    roadmapper.handle_state()\n",
    "    pm.handle_state()\n",
    "    dev.handle_state()"
   ]
  },
  {
   "cell_type": "code",
   "execution_count": null,
   "id": "e9201218-3c5c-4a98-8f80-2fd539462f49",
   "metadata": {},
   "outputs": [],
   "source": []
  },
  {
   "cell_type": "code",
   "execution_count": null,
   "id": "9806d2d9-ce97-4980-a529-8e6d48968306",
   "metadata": {},
   "outputs": [],
   "source": []
  },
  {
   "cell_type": "code",
   "execution_count": null,
   "id": "607e2a6c-d2d7-47b3-89e6-f1b0b2522d5b",
   "metadata": {},
   "outputs": [],
   "source": []
  },
  {
   "cell_type": "code",
   "execution_count": null,
   "id": "7f35558d-1b4b-46c8-84e7-dba65c3b9a69",
   "metadata": {},
   "outputs": [],
   "source": []
  },
  {
   "cell_type": "code",
   "execution_count": null,
   "id": "4d9060ba-4a98-41f8-b21e-3fce243cb599",
   "metadata": {},
   "outputs": [],
   "source": []
  },
  {
   "cell_type": "code",
   "execution_count": null,
   "id": "39264016-98ba-4866-b5ed-9ccfef1e5d83",
   "metadata": {},
   "outputs": [],
   "source": []
  },
  {
   "cell_type": "code",
   "execution_count": null,
   "id": "fbf2b6da-2472-4f7f-865f-e938e1349f46",
   "metadata": {},
   "outputs": [],
   "source": []
  },
  {
   "cell_type": "code",
   "execution_count": null,
   "id": "e03ddf14-c093-4d6e-9b01-7b8081ef7164",
   "metadata": {},
   "outputs": [],
   "source": []
  },
  {
   "cell_type": "code",
   "execution_count": null,
   "id": "390aea94-40ce-410b-9eee-914b9bef5328",
   "metadata": {},
   "outputs": [],
   "source": []
  },
  {
   "cell_type": "code",
   "execution_count": null,
   "id": "ee93c68e-ab1b-4a3a-8315-37c00f1c76ca",
   "metadata": {},
   "outputs": [],
   "source": []
  }
 ],
 "metadata": {
  "kernelspec": {
   "display_name": "Python 3 (ipykernel)",
   "language": "python",
   "name": "python3"
  },
  "language_info": {
   "codemirror_mode": {
    "name": "ipython",
    "version": 3
   },
   "file_extension": ".py",
   "mimetype": "text/x-python",
   "name": "python",
   "nbconvert_exporter": "python",
   "pygments_lexer": "ipython3",
   "version": "3.12.4"
  }
 },
 "nbformat": 4,
 "nbformat_minor": 5
}
