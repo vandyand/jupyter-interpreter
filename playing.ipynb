{
 "cells": [
  {
   "cell_type": "code",
   "execution_count": 2,
   "id": "d41caaba-1571-4586-8c0f-7c863386c2c2",
   "metadata": {},
   "outputs": [
    {
     "name": "stdout",
     "output_type": "stream",
     "text": [
      "Collecting open-interpreter\n",
      "  Downloading open_interpreter-0.3.4-py3-none-any.whl.metadata (17 kB)\n",
      "Collecting astor<0.9.0,>=0.8.1 (from open-interpreter)\n",
      "  Downloading astor-0.8.1-py2.py3-none-any.whl.metadata (4.2 kB)\n",
      "Collecting git-python<2.0.0,>=1.0.3 (from open-interpreter)\n",
      "  Downloading git_python-1.0.3-py2.py3-none-any.whl.metadata (331 bytes)\n",
      "Collecting html2image<3.0.0.0,>=2.0.4.3 (from open-interpreter)\n",
      "  Downloading html2image-2.0.4.3-py3-none-any.whl.metadata (14 kB)\n",
      "Collecting inquirer<4.0.0,>=3.1.3 (from open-interpreter)\n",
      "  Downloading inquirer-3.3.0-py3-none-any.whl.metadata (6.8 kB)\n",
      "Requirement already satisfied: ipykernel<7.0.0,>=6.26.0 in /opt/anaconda3/lib/python3.12/site-packages (from open-interpreter) (6.28.0)\n",
      "Requirement already satisfied: jupyter-client<9.0.0,>=8.6.0 in /opt/anaconda3/lib/python3.12/site-packages (from open-interpreter) (8.6.0)\n",
      "Collecting litellm<2.0.0,>=1.35.32 (from open-interpreter)\n",
      "  Downloading litellm-1.41.27-py3-none-any.whl.metadata (32 kB)\n",
      "Requirement already satisfied: matplotlib<4.0.0,>=3.8.2 in /opt/anaconda3/lib/python3.12/site-packages (from open-interpreter) (3.8.4)\n",
      "Requirement already satisfied: nltk<4.0.0,>=3.8.1 in /opt/anaconda3/lib/python3.12/site-packages (from open-interpreter) (3.8.1)\n",
      "Collecting platformdirs<5.0.0,>=4.2.0 (from open-interpreter)\n",
      "  Downloading platformdirs-4.2.2-py3-none-any.whl.metadata (11 kB)\n",
      "Collecting psutil<6.0.0,>=5.9.6 (from open-interpreter)\n",
      "  Downloading psutil-5.9.8-cp38-abi3-macosx_11_0_arm64.whl.metadata (21 kB)\n",
      "Collecting pydantic<3.0.0,>=2.6.4 (from open-interpreter)\n",
      "  Downloading pydantic-2.8.2-py3-none-any.whl.metadata (125 kB)\n",
      "\u001b[2K     \u001b[38;2;114;156;31m━━━━━━━━━━━━━━━━━━━━━━━━━━━━━━━━━━━━━━━\u001b[0m \u001b[32m125.2/125.2 kB\u001b[0m \u001b[31m2.2 MB/s\u001b[0m eta \u001b[36m0:00:00\u001b[0m[31m1.8 MB/s\u001b[0m eta \u001b[36m0:00:01\u001b[0m\n",
      "\u001b[?25hRequirement already satisfied: pyyaml<7.0.0,>=6.0.1 in /opt/anaconda3/lib/python3.12/site-packages (from open-interpreter) (6.0.1)\n",
      "Collecting rich<14.0.0,>=13.4.2 (from open-interpreter)\n",
      "  Downloading rich-13.7.1-py3-none-any.whl.metadata (18 kB)\n",
      "Requirement already satisfied: send2trash<2.0.0,>=1.8.2 in /opt/anaconda3/lib/python3.12/site-packages (from open-interpreter) (1.8.2)\n",
      "Requirement already satisfied: setuptools in /opt/anaconda3/lib/python3.12/site-packages (from open-interpreter) (69.5.1)\n",
      "Requirement already satisfied: six<2.0.0,>=1.16.0 in /opt/anaconda3/lib/python3.12/site-packages (from open-interpreter) (1.16.0)\n",
      "Collecting tiktoken<0.7.0,>=0.6.0 (from open-interpreter)\n",
      "  Downloading tiktoken-0.6.0-cp312-cp312-macosx_11_0_arm64.whl.metadata (6.6 kB)\n",
      "Collecting tokentrim<0.2.0,>=0.1.13 (from open-interpreter)\n",
      "  Downloading tokentrim-0.1.13-py3-none-any.whl.metadata (2.9 kB)\n",
      "Requirement already satisfied: toml<0.11.0,>=0.10.2 in /opt/anaconda3/lib/python3.12/site-packages (from open-interpreter) (0.10.2)\n",
      "Collecting wget<4.0,>=3.2 (from open-interpreter)\n",
      "  Downloading wget-3.2.zip (10 kB)\n",
      "  Preparing metadata (setup.py) ... \u001b[?25ldone\n",
      "\u001b[?25hRequirement already satisfied: gitpython in /opt/anaconda3/lib/python3.12/site-packages (from git-python<2.0.0,>=1.0.3->open-interpreter) (3.1.37)\n",
      "Requirement already satisfied: requests in /opt/anaconda3/lib/python3.12/site-packages (from html2image<3.0.0.0,>=2.0.4.3->open-interpreter) (2.32.2)\n",
      "Requirement already satisfied: websocket-client<2.0.0,>=1.0.0 in /opt/anaconda3/lib/python3.12/site-packages (from html2image<3.0.0.0,>=2.0.4.3->open-interpreter) (1.8.0)\n",
      "Collecting blessed>=1.19.0 (from inquirer<4.0.0,>=3.1.3->open-interpreter)\n",
      "  Downloading blessed-1.20.0-py2.py3-none-any.whl.metadata (13 kB)\n",
      "Collecting editor>=1.6.0 (from inquirer<4.0.0,>=3.1.3->open-interpreter)\n",
      "  Downloading editor-1.6.6-py3-none-any.whl.metadata (2.3 kB)\n",
      "Collecting readchar>=3.0.6 (from inquirer<4.0.0,>=3.1.3->open-interpreter)\n",
      "  Downloading readchar-4.1.0-py3-none-any.whl.metadata (7.5 kB)\n",
      "Requirement already satisfied: appnope in /opt/anaconda3/lib/python3.12/site-packages (from ipykernel<7.0.0,>=6.26.0->open-interpreter) (0.1.3)\n",
      "Requirement already satisfied: comm>=0.1.1 in /opt/anaconda3/lib/python3.12/site-packages (from ipykernel<7.0.0,>=6.26.0->open-interpreter) (0.2.1)\n",
      "Requirement already satisfied: debugpy>=1.6.5 in /opt/anaconda3/lib/python3.12/site-packages (from ipykernel<7.0.0,>=6.26.0->open-interpreter) (1.6.7)\n",
      "Requirement already satisfied: ipython>=7.23.1 in /opt/anaconda3/lib/python3.12/site-packages (from ipykernel<7.0.0,>=6.26.0->open-interpreter) (8.25.0)\n",
      "Requirement already satisfied: jupyter-core!=5.0.*,>=4.12 in /opt/anaconda3/lib/python3.12/site-packages (from ipykernel<7.0.0,>=6.26.0->open-interpreter) (5.7.2)\n",
      "Requirement already satisfied: matplotlib-inline>=0.1 in /opt/anaconda3/lib/python3.12/site-packages (from ipykernel<7.0.0,>=6.26.0->open-interpreter) (0.1.6)\n",
      "Requirement already satisfied: nest-asyncio in /opt/anaconda3/lib/python3.12/site-packages (from ipykernel<7.0.0,>=6.26.0->open-interpreter) (1.6.0)\n",
      "Requirement already satisfied: packaging in /opt/anaconda3/lib/python3.12/site-packages (from ipykernel<7.0.0,>=6.26.0->open-interpreter) (23.2)\n",
      "Requirement already satisfied: pyzmq>=24 in /opt/anaconda3/lib/python3.12/site-packages (from ipykernel<7.0.0,>=6.26.0->open-interpreter) (25.1.2)\n",
      "Requirement already satisfied: tornado>=6.1 in /opt/anaconda3/lib/python3.12/site-packages (from ipykernel<7.0.0,>=6.26.0->open-interpreter) (6.4.1)\n",
      "Requirement already satisfied: traitlets>=5.4.0 in /opt/anaconda3/lib/python3.12/site-packages (from ipykernel<7.0.0,>=6.26.0->open-interpreter) (5.14.3)\n",
      "Requirement already satisfied: python-dateutil>=2.8.2 in /opt/anaconda3/lib/python3.12/site-packages (from jupyter-client<9.0.0,>=8.6.0->open-interpreter) (2.9.0.post0)\n",
      "Requirement already satisfied: aiohttp in /opt/anaconda3/lib/python3.12/site-packages (from litellm<2.0.0,>=1.35.32->open-interpreter) (3.9.5)\n",
      "Requirement already satisfied: click in /opt/anaconda3/lib/python3.12/site-packages (from litellm<2.0.0,>=1.35.32->open-interpreter) (8.1.7)\n",
      "Requirement already satisfied: importlib-metadata>=6.8.0 in /opt/anaconda3/lib/python3.12/site-packages (from litellm<2.0.0,>=1.35.32->open-interpreter) (7.0.1)\n",
      "Requirement already satisfied: jinja2<4.0.0,>=3.1.2 in /opt/anaconda3/lib/python3.12/site-packages (from litellm<2.0.0,>=1.35.32->open-interpreter) (3.1.4)\n",
      "Collecting jsonschema<5.0.0,>=4.22.0 (from litellm<2.0.0,>=1.35.32->open-interpreter)\n",
      "  Downloading jsonschema-4.23.0-py3-none-any.whl.metadata (7.9 kB)\n",
      "Collecting openai>=1.27.0 (from litellm<2.0.0,>=1.35.32->open-interpreter)\n",
      "  Downloading openai-1.37.0-py3-none-any.whl.metadata (22 kB)\n",
      "Requirement already satisfied: python-dotenv>=0.2.0 in /opt/anaconda3/lib/python3.12/site-packages (from litellm<2.0.0,>=1.35.32->open-interpreter) (0.21.0)\n",
      "INFO: pip is looking at multiple versions of litellm to determine which version is compatible with other requirements. This could take a while.\n",
      "Collecting litellm<2.0.0,>=1.35.32 (from open-interpreter)\n",
      "  Downloading litellm-1.41.26-py3-none-any.whl.metadata (32 kB)\n",
      "  Downloading litellm-1.41.25-py3-none-any.whl.metadata (32 kB)\n",
      "  Downloading litellm-1.41.24-py3-none-any.whl.metadata (31 kB)\n",
      "  Downloading litellm-1.41.23-py3-none-any.whl.metadata (31 kB)\n",
      "  Downloading litellm-1.41.22-py3-none-any.whl.metadata (31 kB)\n",
      "  Downloading litellm-1.41.21-py3-none-any.whl.metadata (31 kB)\n",
      "  Downloading litellm-1.41.20-py3-none-any.whl.metadata (31 kB)\n",
      "INFO: pip is still looking at multiple versions of litellm to determine which version is compatible with other requirements. This could take a while.\n",
      "  Downloading litellm-1.41.19-py3-none-any.whl.metadata (31 kB)\n",
      "  Downloading litellm-1.41.18-py3-none-any.whl.metadata (31 kB)\n",
      "  Downloading litellm-1.41.17-py3-none-any.whl.metadata (31 kB)\n",
      "  Downloading litellm-1.41.15-py3-none-any.whl.metadata (31 kB)\n",
      "  Downloading litellm-1.41.14-py3-none-any.whl.metadata (31 kB)\n",
      "INFO: This is taking longer than usual. You might need to provide the dependency resolver with stricter constraints to reduce runtime. See https://pip.pypa.io/warnings/backtracking for guidance. If you want to abort this run, press Ctrl + C.\n",
      "  Downloading litellm-1.41.13-py3-none-any.whl.metadata (31 kB)\n",
      "  Downloading litellm-1.41.12-py3-none-any.whl.metadata (31 kB)\n",
      "  Downloading litellm-1.41.11-py3-none-any.whl.metadata (31 kB)\n",
      "  Downloading litellm-1.41.8-py3-none-any.whl.metadata (31 kB)\n",
      "  Downloading litellm-1.41.7-py3-none-any.whl.metadata (31 kB)\n",
      "  Downloading litellm-1.41.6-py3-none-any.whl.metadata (31 kB)\n",
      "  Downloading litellm-1.41.5-py3-none-any.whl.metadata (31 kB)\n",
      "  Downloading litellm-1.41.4-py3-none-any.whl.metadata (31 kB)\n",
      "  Downloading litellm-1.41.3-py3-none-any.whl.metadata (31 kB)\n",
      "  Downloading litellm-1.41.2-py3-none-any.whl.metadata (31 kB)\n",
      "  Downloading litellm-1.41.1-py3-none-any.whl.metadata (31 kB)\n",
      "Collecting ijson (from litellm<2.0.0,>=1.35.32->open-interpreter)\n",
      "  Downloading ijson-3.3.0-cp312-cp312-macosx_11_0_arm64.whl.metadata (21 kB)\n",
      "Collecting litellm<2.0.0,>=1.35.32 (from open-interpreter)\n",
      "  Downloading litellm-1.41.0-py3-none-any.whl.metadata (31 kB)\n",
      "  Downloading litellm-1.40.31-py3-none-any.whl.metadata (31 kB)\n",
      "  Downloading litellm-1.40.29-py3-none-any.whl.metadata (31 kB)\n",
      "  Downloading litellm-1.40.28-py3-none-any.whl.metadata (31 kB)\n",
      "  Downloading litellm-1.40.27-py3-none-any.whl.metadata (31 kB)\n",
      "  Downloading litellm-1.40.26-py3-none-any.whl.metadata (31 kB)\n",
      "  Downloading litellm-1.40.25-py3-none-any.whl.metadata (31 kB)\n",
      "  Downloading litellm-1.40.24-py3-none-any.whl.metadata (31 kB)\n",
      "  Downloading litellm-1.40.22-py3-none-any.whl.metadata (31 kB)\n",
      "  Downloading litellm-1.40.21-py3-none-any.whl.metadata (31 kB)\n",
      "  Downloading litellm-1.40.20-py3-none-any.whl.metadata (30 kB)\n",
      "  Downloading litellm-1.40.19-py3-none-any.whl.metadata (30 kB)\n",
      "  Downloading litellm-1.40.17-py3-none-any.whl.metadata (30 kB)\n",
      "  Downloading litellm-1.40.16-py3-none-any.whl.metadata (30 kB)\n",
      "  Downloading litellm-1.40.15-py3-none-any.whl.metadata (30 kB)\n",
      "  Downloading litellm-1.40.14-py3-none-any.whl.metadata (30 kB)\n",
      "  Downloading litellm-1.40.13-py3-none-any.whl.metadata (30 kB)\n",
      "  Downloading litellm-1.40.12-py3-none-any.whl.metadata (30 kB)\n",
      "  Downloading litellm-1.40.11-py3-none-any.whl.metadata (30 kB)\n",
      "  Downloading litellm-1.40.10-py3-none-any.whl.metadata (30 kB)\n",
      "  Downloading litellm-1.40.9-py3-none-any.whl.metadata (30 kB)\n",
      "  Downloading litellm-1.40.8-py3-none-any.whl.metadata (30 kB)\n",
      "Collecting tokenizers (from litellm<2.0.0,>=1.35.32->open-interpreter)\n",
      "  Downloading tokenizers-0.19.1-cp312-cp312-macosx_11_0_arm64.whl.metadata (6.7 kB)\n",
      "Requirement already satisfied: contourpy>=1.0.1 in /opt/anaconda3/lib/python3.12/site-packages (from matplotlib<4.0.0,>=3.8.2->open-interpreter) (1.2.0)\n",
      "Requirement already satisfied: cycler>=0.10 in /opt/anaconda3/lib/python3.12/site-packages (from matplotlib<4.0.0,>=3.8.2->open-interpreter) (0.11.0)\n",
      "Requirement already satisfied: fonttools>=4.22.0 in /opt/anaconda3/lib/python3.12/site-packages (from matplotlib<4.0.0,>=3.8.2->open-interpreter) (4.51.0)\n",
      "Requirement already satisfied: kiwisolver>=1.3.1 in /opt/anaconda3/lib/python3.12/site-packages (from matplotlib<4.0.0,>=3.8.2->open-interpreter) (1.4.4)\n",
      "Requirement already satisfied: numpy>=1.21 in /opt/anaconda3/lib/python3.12/site-packages (from matplotlib<4.0.0,>=3.8.2->open-interpreter) (1.26.4)\n",
      "Requirement already satisfied: pillow>=8 in /opt/anaconda3/lib/python3.12/site-packages (from matplotlib<4.0.0,>=3.8.2->open-interpreter) (10.3.0)\n",
      "Requirement already satisfied: pyparsing>=2.3.1 in /opt/anaconda3/lib/python3.12/site-packages (from matplotlib<4.0.0,>=3.8.2->open-interpreter) (3.0.9)\n",
      "Requirement already satisfied: joblib in /opt/anaconda3/lib/python3.12/site-packages (from nltk<4.0.0,>=3.8.1->open-interpreter) (1.4.2)\n",
      "Requirement already satisfied: regex>=2021.8.3 in /opt/anaconda3/lib/python3.12/site-packages (from nltk<4.0.0,>=3.8.1->open-interpreter) (2023.10.3)\n",
      "Requirement already satisfied: tqdm in /opt/anaconda3/lib/python3.12/site-packages (from nltk<4.0.0,>=3.8.1->open-interpreter) (4.66.4)\n",
      "Requirement already satisfied: annotated-types>=0.4.0 in /opt/anaconda3/lib/python3.12/site-packages (from pydantic<3.0.0,>=2.6.4->open-interpreter) (0.6.0)\n",
      "Collecting pydantic-core==2.20.1 (from pydantic<3.0.0,>=2.6.4->open-interpreter)\n",
      "  Downloading pydantic_core-2.20.1-cp312-cp312-macosx_11_0_arm64.whl.metadata (6.6 kB)\n",
      "Requirement already satisfied: typing-extensions>=4.6.1 in /opt/anaconda3/lib/python3.12/site-packages (from pydantic<3.0.0,>=2.6.4->open-interpreter) (4.11.0)\n",
      "Requirement already satisfied: markdown-it-py>=2.2.0 in /opt/anaconda3/lib/python3.12/site-packages (from rich<14.0.0,>=13.4.2->open-interpreter) (2.2.0)\n",
      "Requirement already satisfied: pygments<3.0.0,>=2.13.0 in /opt/anaconda3/lib/python3.12/site-packages (from rich<14.0.0,>=13.4.2->open-interpreter) (2.15.1)\n",
      "Requirement already satisfied: wcwidth>=0.1.4 in /opt/anaconda3/lib/python3.12/site-packages (from blessed>=1.19.0->inquirer<4.0.0,>=3.1.3->open-interpreter) (0.2.5)\n",
      "Collecting runs (from editor>=1.6.0->inquirer<4.0.0,>=3.1.3->open-interpreter)\n",
      "  Downloading runs-1.2.2-py3-none-any.whl.metadata (10 kB)\n",
      "Collecting xmod (from editor>=1.6.0->inquirer<4.0.0,>=3.1.3->open-interpreter)\n",
      "  Downloading xmod-1.8.1-py3-none-any.whl.metadata (1.8 kB)\n",
      "Requirement already satisfied: zipp>=0.5 in /opt/anaconda3/lib/python3.12/site-packages (from importlib-metadata>=6.8.0->litellm<2.0.0,>=1.35.32->open-interpreter) (3.17.0)\n",
      "Requirement already satisfied: decorator in /opt/anaconda3/lib/python3.12/site-packages (from ipython>=7.23.1->ipykernel<7.0.0,>=6.26.0->open-interpreter) (5.1.1)\n",
      "Requirement already satisfied: jedi>=0.16 in /opt/anaconda3/lib/python3.12/site-packages (from ipython>=7.23.1->ipykernel<7.0.0,>=6.26.0->open-interpreter) (0.18.1)\n",
      "Requirement already satisfied: prompt-toolkit<3.1.0,>=3.0.41 in /opt/anaconda3/lib/python3.12/site-packages (from ipython>=7.23.1->ipykernel<7.0.0,>=6.26.0->open-interpreter) (3.0.43)\n",
      "Requirement already satisfied: stack-data in /opt/anaconda3/lib/python3.12/site-packages (from ipython>=7.23.1->ipykernel<7.0.0,>=6.26.0->open-interpreter) (0.2.0)\n",
      "Requirement already satisfied: pexpect>4.3 in /opt/anaconda3/lib/python3.12/site-packages (from ipython>=7.23.1->ipykernel<7.0.0,>=6.26.0->open-interpreter) (4.8.0)\n",
      "Requirement already satisfied: MarkupSafe>=2.0 in /opt/anaconda3/lib/python3.12/site-packages (from jinja2<4.0.0,>=3.1.2->litellm<2.0.0,>=1.35.32->open-interpreter) (2.1.3)\n",
      "Requirement already satisfied: mdurl~=0.1 in /opt/anaconda3/lib/python3.12/site-packages (from markdown-it-py>=2.2.0->rich<14.0.0,>=13.4.2->open-interpreter) (0.1.0)\n",
      "Requirement already satisfied: anyio<5,>=3.5.0 in /opt/anaconda3/lib/python3.12/site-packages (from openai>=1.27.0->litellm<2.0.0,>=1.35.32->open-interpreter) (4.2.0)\n",
      "Requirement already satisfied: distro<2,>=1.7.0 in /opt/anaconda3/lib/python3.12/site-packages (from openai>=1.27.0->litellm<2.0.0,>=1.35.32->open-interpreter) (1.9.0)\n",
      "Collecting httpx<1,>=0.23.0 (from openai>=1.27.0->litellm<2.0.0,>=1.35.32->open-interpreter)\n",
      "  Downloading httpx-0.27.0-py3-none-any.whl.metadata (7.2 kB)\n",
      "Requirement already satisfied: sniffio in /opt/anaconda3/lib/python3.12/site-packages (from openai>=1.27.0->litellm<2.0.0,>=1.35.32->open-interpreter) (1.3.0)\n",
      "Requirement already satisfied: charset-normalizer<4,>=2 in /opt/anaconda3/lib/python3.12/site-packages (from requests->html2image<3.0.0.0,>=2.0.4.3->open-interpreter) (2.0.4)\n",
      "Requirement already satisfied: idna<4,>=2.5 in /opt/anaconda3/lib/python3.12/site-packages (from requests->html2image<3.0.0.0,>=2.0.4.3->open-interpreter) (3.7)\n",
      "Requirement already satisfied: urllib3<3,>=1.21.1 in /opt/anaconda3/lib/python3.12/site-packages (from requests->html2image<3.0.0.0,>=2.0.4.3->open-interpreter) (2.2.2)\n",
      "Requirement already satisfied: certifi>=2017.4.17 in /opt/anaconda3/lib/python3.12/site-packages (from requests->html2image<3.0.0.0,>=2.0.4.3->open-interpreter) (2024.6.2)\n",
      "Requirement already satisfied: aiosignal>=1.1.2 in /opt/anaconda3/lib/python3.12/site-packages (from aiohttp->litellm<2.0.0,>=1.35.32->open-interpreter) (1.2.0)\n",
      "Requirement already satisfied: attrs>=17.3.0 in /opt/anaconda3/lib/python3.12/site-packages (from aiohttp->litellm<2.0.0,>=1.35.32->open-interpreter) (23.1.0)\n",
      "Requirement already satisfied: frozenlist>=1.1.1 in /opt/anaconda3/lib/python3.12/site-packages (from aiohttp->litellm<2.0.0,>=1.35.32->open-interpreter) (1.4.0)\n",
      "Requirement already satisfied: multidict<7.0,>=4.5 in /opt/anaconda3/lib/python3.12/site-packages (from aiohttp->litellm<2.0.0,>=1.35.32->open-interpreter) (6.0.4)\n",
      "Requirement already satisfied: yarl<2.0,>=1.0 in /opt/anaconda3/lib/python3.12/site-packages (from aiohttp->litellm<2.0.0,>=1.35.32->open-interpreter) (1.9.3)\n",
      "Requirement already satisfied: gitdb<5,>=4.0.1 in /opt/anaconda3/lib/python3.12/site-packages (from gitpython->git-python<2.0.0,>=1.0.3->open-interpreter) (4.0.7)\n",
      "Collecting huggingface-hub<1.0,>=0.16.4 (from tokenizers->litellm<2.0.0,>=1.35.32->open-interpreter)\n",
      "  Downloading huggingface_hub-0.24.1-py3-none-any.whl.metadata (13 kB)\n",
      "Requirement already satisfied: smmap<5,>=3.0.1 in /opt/anaconda3/lib/python3.12/site-packages (from gitdb<5,>=4.0.1->gitpython->git-python<2.0.0,>=1.0.3->open-interpreter) (4.0.0)\n",
      "Collecting httpcore==1.* (from httpx<1,>=0.23.0->openai>=1.27.0->litellm<2.0.0,>=1.35.32->open-interpreter)\n",
      "  Downloading httpcore-1.0.5-py3-none-any.whl.metadata (20 kB)\n",
      "Collecting h11<0.15,>=0.13 (from httpcore==1.*->httpx<1,>=0.23.0->openai>=1.27.0->litellm<2.0.0,>=1.35.32->open-interpreter)\n",
      "  Downloading h11-0.14.0-py3-none-any.whl.metadata (8.2 kB)\n",
      "Requirement already satisfied: filelock in /opt/anaconda3/lib/python3.12/site-packages (from huggingface-hub<1.0,>=0.16.4->tokenizers->litellm<2.0.0,>=1.35.32->open-interpreter) (3.13.1)\n",
      "Requirement already satisfied: fsspec>=2023.5.0 in /opt/anaconda3/lib/python3.12/site-packages (from huggingface-hub<1.0,>=0.16.4->tokenizers->litellm<2.0.0,>=1.35.32->open-interpreter) (2024.3.1)\n",
      "Requirement already satisfied: parso<0.9.0,>=0.8.0 in /opt/anaconda3/lib/python3.12/site-packages (from jedi>=0.16->ipython>=7.23.1->ipykernel<7.0.0,>=6.26.0->open-interpreter) (0.8.3)\n",
      "Requirement already satisfied: ptyprocess>=0.5 in /opt/anaconda3/lib/python3.12/site-packages (from pexpect>4.3->ipython>=7.23.1->ipykernel<7.0.0,>=6.26.0->open-interpreter) (0.7.0)\n",
      "Requirement already satisfied: executing in /opt/anaconda3/lib/python3.12/site-packages (from stack-data->ipython>=7.23.1->ipykernel<7.0.0,>=6.26.0->open-interpreter) (0.8.3)\n",
      "Requirement already satisfied: asttokens in /opt/anaconda3/lib/python3.12/site-packages (from stack-data->ipython>=7.23.1->ipykernel<7.0.0,>=6.26.0->open-interpreter) (2.0.5)\n",
      "Requirement already satisfied: pure-eval in /opt/anaconda3/lib/python3.12/site-packages (from stack-data->ipython>=7.23.1->ipykernel<7.0.0,>=6.26.0->open-interpreter) (0.2.2)\n",
      "Downloading open_interpreter-0.3.4-py3-none-any.whl (189 kB)\n",
      "\u001b[2K   \u001b[38;2;114;156;31m━━━━━━━━━━━━━━━━━━━━━━━━━━━━━━━━━━━━━━━━\u001b[0m \u001b[32m189.3/189.3 kB\u001b[0m \u001b[31m22.3 MB/s\u001b[0m eta \u001b[36m0:00:00\u001b[0m\n",
      "\u001b[?25hDownloading astor-0.8.1-py2.py3-none-any.whl (27 kB)\n",
      "Downloading git_python-1.0.3-py2.py3-none-any.whl (1.9 kB)\n",
      "Downloading html2image-2.0.4.3-py3-none-any.whl (27 kB)\n",
      "Downloading inquirer-3.3.0-py3-none-any.whl (18 kB)\n",
      "Downloading litellm-1.40.8-py3-none-any.whl (4.5 MB)\n",
      "\u001b[2K   \u001b[38;2;114;156;31m━━━━━━━━━━━━━━━━━━━━━━━━━━━━━━━━━━━━━━━━\u001b[0m \u001b[32m4.5/4.5 MB\u001b[0m \u001b[31m18.6 MB/s\u001b[0m eta \u001b[36m0:00:00\u001b[0m MB/s\u001b[0m eta \u001b[36m0:00:01\u001b[0m:01\u001b[0m\n",
      "\u001b[?25hDownloading platformdirs-4.2.2-py3-none-any.whl (18 kB)\n",
      "Downloading psutil-5.9.8-cp38-abi3-macosx_11_0_arm64.whl (249 kB)\n",
      "\u001b[2K   \u001b[38;2;114;156;31m━━━━━━━━━━━━━━━━━━━━━━━━━━━━━━━━━━━━━━━━\u001b[0m \u001b[32m249.9/249.9 kB\u001b[0m \u001b[31m11.5 MB/s\u001b[0m eta \u001b[36m0:00:00\u001b[0m31m40.8 MB/s\u001b[0m eta \u001b[36m0:00:01\u001b[0m\n",
      "\u001b[?25hDownloading pydantic-2.8.2-py3-none-any.whl (423 kB)\n",
      "\u001b[2K   \u001b[38;2;114;156;31m━━━━━━━━━━━━━━━━━━━━━━━━━━━━━━━━━━━━━━━━\u001b[0m \u001b[32m423.9/423.9 kB\u001b[0m \u001b[31m8.9 MB/s\u001b[0m eta \u001b[36m0:00:00\u001b[0m[31m11.0 MB/s\u001b[0m eta \u001b[36m0:00:01\u001b[0m\n",
      "\u001b[?25hDownloading pydantic_core-2.20.1-cp312-cp312-macosx_11_0_arm64.whl (1.8 MB)\n",
      "\u001b[2K   \u001b[38;2;114;156;31m━━━━━━━━━━━━━━━━━━━━━━━━━━━━━━━━━━━━━━━━\u001b[0m \u001b[32m1.8/1.8 MB\u001b[0m \u001b[31m25.6 MB/s\u001b[0m eta \u001b[36m0:00:00\u001b[0m MB/s\u001b[0m eta \u001b[36m0:00:01\u001b[0m\n",
      "\u001b[?25hDownloading rich-13.7.1-py3-none-any.whl (240 kB)\n",
      "\u001b[2K   \u001b[38;2;114;156;31m━━━━━━━━━━━━━━━━━━━━━━━━━━━━━━━━━━━━━━━━\u001b[0m \u001b[32m240.7/240.7 kB\u001b[0m \u001b[31m10.2 MB/s\u001b[0m eta \u001b[36m0:00:00\u001b[0m\n",
      "\u001b[?25hDownloading tiktoken-0.6.0-cp312-cp312-macosx_11_0_arm64.whl (922 kB)\n",
      "\u001b[2K   \u001b[38;2;114;156;31m━━━━━━━━━━━━━━━━━━━━━━━━━━━━━━━━━━━━━━━━\u001b[0m \u001b[32m922.4/922.4 kB\u001b[0m \u001b[31m24.2 MB/s\u001b[0m eta \u001b[36m0:00:00\u001b[0m\n",
      "\u001b[?25hDownloading tokentrim-0.1.13-py3-none-any.whl (7.8 kB)\n",
      "Downloading blessed-1.20.0-py2.py3-none-any.whl (58 kB)\n",
      "\u001b[2K   \u001b[38;2;114;156;31m━━━━━━━━━━━━━━━━━━━━━━━━━━━━━━━━━━━━━━━━\u001b[0m \u001b[32m58.4/58.4 kB\u001b[0m \u001b[31m4.1 MB/s\u001b[0m eta \u001b[36m0:00:00\u001b[0m\n",
      "\u001b[?25hDownloading editor-1.6.6-py3-none-any.whl (4.0 kB)\n",
      "Downloading openai-1.37.0-py3-none-any.whl (337 kB)\n",
      "\u001b[2K   \u001b[38;2;114;156;31m━━━━━━━━━━━━━━━━━━━━━━━━━━━━━━━━━━━━━━━━\u001b[0m \u001b[32m337.0/337.0 kB\u001b[0m \u001b[31m33.8 MB/s\u001b[0m eta \u001b[36m0:00:00\u001b[0m\n",
      "\u001b[?25hDownloading readchar-4.1.0-py3-none-any.whl (9.1 kB)\n",
      "Downloading tokenizers-0.19.1-cp312-cp312-macosx_11_0_arm64.whl (2.4 MB)\n",
      "\u001b[2K   \u001b[38;2;114;156;31m━━━━━━━━━━━━━━━━━━━━━━━━━━━━━━━━━━━━━━━━\u001b[0m \u001b[32m2.4/2.4 MB\u001b[0m \u001b[31m26.3 MB/s\u001b[0m eta \u001b[36m0:00:00\u001b[0m31m27.8 MB/s\u001b[0m eta \u001b[36m0:00:01\u001b[0m\n",
      "\u001b[?25hDownloading httpx-0.27.0-py3-none-any.whl (75 kB)\n",
      "\u001b[2K   \u001b[38;2;114;156;31m━━━━━━━━━━━━━━━━━━━━━━━━━━━━━━━━━━━━━━━━\u001b[0m \u001b[32m75.6/75.6 kB\u001b[0m \u001b[31m9.3 MB/s\u001b[0m eta \u001b[36m0:00:00\u001b[0m\n",
      "\u001b[?25hDownloading httpcore-1.0.5-py3-none-any.whl (77 kB)\n",
      "\u001b[2K   \u001b[38;2;114;156;31m━━━━━━━━━━━━━━━━━━━━━━━━━━━━━━━━━━━━━━━━\u001b[0m \u001b[32m77.9/77.9 kB\u001b[0m \u001b[31m9.9 MB/s\u001b[0m eta \u001b[36m0:00:00\u001b[0m\n",
      "\u001b[?25hDownloading huggingface_hub-0.24.1-py3-none-any.whl (417 kB)\n",
      "\u001b[2K   \u001b[38;2;114;156;31m━━━━━━━━━━━━━━━━━━━━━━━━━━━━━━━━━━━━━━━━\u001b[0m \u001b[32m417.2/417.2 kB\u001b[0m \u001b[31m16.1 MB/s\u001b[0m eta \u001b[36m0:00:00\u001b[0m\n",
      "\u001b[?25hDownloading runs-1.2.2-py3-none-any.whl (7.0 kB)\n",
      "Downloading xmod-1.8.1-py3-none-any.whl (4.6 kB)\n",
      "Downloading h11-0.14.0-py3-none-any.whl (58 kB)\n",
      "\u001b[2K   \u001b[38;2;114;156;31m━━━━━━━━━━━━━━━━━━━━━━━━━━━━━━━━━━━━━━━━\u001b[0m \u001b[32m58.3/58.3 kB\u001b[0m \u001b[31m4.8 MB/s\u001b[0m eta \u001b[36m0:00:00\u001b[0m\n",
      "\u001b[?25hBuilding wheels for collected packages: wget\n",
      "  Building wheel for wget (setup.py) ... \u001b[?25ldone\n",
      "\u001b[?25h  Created wheel for wget: filename=wget-3.2-py3-none-any.whl size=9656 sha256=3e701ee080f74ce4a1390836050470791a7c2965ae7b9ad6c225c852e45f4335\n",
      "  Stored in directory: /Users/kingjames/Library/Caches/pip/wheels/01/46/3b/e29ffbe4ebe614ff224bad40fc6a5773a67a163251585a13a9\n",
      "Successfully built wget\n",
      "Installing collected packages: wget, xmod, readchar, pydantic-core, psutil, platformdirs, h11, blessed, astor, tiktoken, runs, rich, pydantic, huggingface-hub, httpcore, html2image, tokentrim, tokenizers, httpx, git-python, editor, openai, inquirer, litellm, open-interpreter\n",
      "  Attempting uninstall: pydantic-core\n",
      "    Found existing installation: pydantic_core 2.14.6\n",
      "    Uninstalling pydantic_core-2.14.6:\n",
      "      Successfully uninstalled pydantic_core-2.14.6\n",
      "  Attempting uninstall: psutil\n",
      "    Found existing installation: psutil 5.9.0\n",
      "    Uninstalling psutil-5.9.0:\n",
      "      Successfully uninstalled psutil-5.9.0\n",
      "  Attempting uninstall: platformdirs\n",
      "    Found existing installation: platformdirs 3.10.0\n",
      "    Uninstalling platformdirs-3.10.0:\n",
      "      Successfully uninstalled platformdirs-3.10.0\n",
      "  Attempting uninstall: rich\n",
      "    Found existing installation: rich 13.3.5\n",
      "    Uninstalling rich-13.3.5:\n",
      "      Successfully uninstalled rich-13.3.5\n",
      "  Attempting uninstall: pydantic\n",
      "    Found existing installation: pydantic 2.5.3\n",
      "    Uninstalling pydantic-2.5.3:\n",
      "      Successfully uninstalled pydantic-2.5.3\n",
      "Successfully installed astor-0.8.1 blessed-1.20.0 editor-1.6.6 git-python-1.0.3 h11-0.14.0 html2image-2.0.4.3 httpcore-1.0.5 httpx-0.27.0 huggingface-hub-0.24.1 inquirer-3.3.0 litellm-1.40.8 open-interpreter-0.3.4 openai-1.37.0 platformdirs-4.2.2 psutil-5.9.8 pydantic-2.8.2 pydantic-core-2.20.1 readchar-4.1.0 rich-13.7.1 runs-1.2.2 tiktoken-0.6.0 tokenizers-0.19.1 tokentrim-0.1.13 wget-3.2 xmod-1.8.1\n"
     ]
    }
   ],
   "source": [
    "!pip install open-interpreter"
   ]
  },
  {
   "cell_type": "code",
   "execution_count": 1,
   "id": "50b5c4d6-ab7e-4e15-b136-4639923d9c43",
   "metadata": {},
   "outputs": [],
   "source": [
    "from interpreter import OpenInterpreter"
   ]
  },
  {
   "cell_type": "code",
   "execution_count": 2,
   "id": "8fecc84f-c854-4a13-8a17-a95d93abc6fa",
   "metadata": {},
   "outputs": [
    {
     "data": {
      "text/html": [
       "<pre style=\"white-space:pre;overflow-x:auto;line-height:normal;font-family:Menlo,'DejaVu Sans Mono',consolas,'Courier New',monospace\"><span style=\"font-weight: bold\">Open Interpreter</span> will require approval before running code.                                                        \n",
       "</pre>\n"
      ],
      "text/plain": [
       "\u001b[1mOpen Interpreter\u001b[0m will require approval before running code.                                                        \n"
      ]
     },
     "metadata": {},
     "output_type": "display_data"
    },
    {
     "name": "stdout",
     "output_type": "stream",
     "text": [
      "\n"
     ]
    },
    {
     "data": {
      "text/html": [
       "<pre style=\"white-space:pre;overflow-x:auto;line-height:normal;font-family:Menlo,'DejaVu Sans Mono',consolas,'Courier New',monospace\">Use <span style=\"color: #008080; text-decoration-color: #008080; background-color: #000000; font-weight: bold\">interpreter -y</span> to bypass this.                                                                                 \n",
       "</pre>\n"
      ],
      "text/plain": [
       "Use \u001b[1;36;40minterpreter -y\u001b[0m to bypass this.                                                                                 \n"
      ]
     },
     "metadata": {},
     "output_type": "display_data"
    },
    {
     "name": "stdout",
     "output_type": "stream",
     "text": [
      "\n"
     ]
    },
    {
     "data": {
      "text/html": [
       "<pre style=\"white-space:pre;overflow-x:auto;line-height:normal;font-family:Menlo,'DejaVu Sans Mono',consolas,'Courier New',monospace\">Press <span style=\"color: #008080; text-decoration-color: #008080; background-color: #000000; font-weight: bold\">CTRL-C</span> to exit.                                                                                              \n",
       "</pre>\n"
      ],
      "text/plain": [
       "Press \u001b[1;36;40mCTRL-C\u001b[0m to exit.                                                                                              \n"
      ]
     },
     "metadata": {},
     "output_type": "display_data"
    },
    {
     "name": "stdout",
     "output_type": "stream",
     "text": [
      "\n",
      "\n"
     ]
    },
    {
     "data": {
      "text/html": [
       "<pre style=\"white-space:pre;overflow-x:auto;line-height:normal;font-family:Menlo,'DejaVu Sans Mono',consolas,'Courier New',monospace\"><span style=\"font-weight: bold\">We were unable to determine the context window of this model.</span> Defaulting to 3000.                                  \n",
       "</pre>\n"
      ],
      "text/plain": [
       "\u001b[1mWe were unable to determine the context window of this model.\u001b[0m Defaulting to 3000.                                  \n"
      ]
     },
     "metadata": {},
     "output_type": "display_data"
    },
    {
     "name": "stdout",
     "output_type": "stream",
     "text": [
      "\n"
     ]
    },
    {
     "data": {
      "text/html": [
       "<pre style=\"white-space:pre;overflow-x:auto;line-height:normal;font-family:Menlo,'DejaVu Sans Mono',consolas,'Courier New',monospace\">If your model can handle more, run <span style=\"color: #008080; text-decoration-color: #008080; background-color: #000000; font-weight: bold\">self.context_window = {token limit}</span>.                                            \n",
       "</pre>\n"
      ],
      "text/plain": [
       "If your model can handle more, run \u001b[1;36;40mself.context_window = {token limit}\u001b[0m.                                            \n"
      ]
     },
     "metadata": {},
     "output_type": "display_data"
    },
    {
     "name": "stdout",
     "output_type": "stream",
     "text": [
      "\n"
     ]
    },
    {
     "data": {
      "text/html": [
       "<pre style=\"white-space:pre;overflow-x:auto;line-height:normal;font-family:Menlo,'DejaVu Sans Mono',consolas,'Courier New',monospace\">Also please set <span style=\"color: #008080; text-decoration-color: #008080; background-color: #000000; font-weight: bold\">self.max_tokens = {max tokens per response}</span>.                                                       \n",
       "</pre>\n"
      ],
      "text/plain": [
       "Also please set \u001b[1;36;40mself.max_tokens = {max tokens per response}\u001b[0m.                                                       \n"
      ]
     },
     "metadata": {},
     "output_type": "display_data"
    },
    {
     "name": "stdout",
     "output_type": "stream",
     "text": [
      "\n"
     ]
    },
    {
     "data": {
      "text/html": [
       "<pre style=\"white-space:pre;overflow-x:auto;line-height:normal;font-family:Menlo,'DejaVu Sans Mono',consolas,'Courier New',monospace\">Continuing...                                                                                                      \n",
       "</pre>\n"
      ],
      "text/plain": [
       "Continuing...                                                                                                      \n"
      ]
     },
     "metadata": {},
     "output_type": "display_data"
    },
    {
     "name": "stdout",
     "output_type": "stream",
     "text": [
      "\n"
     ]
    },
    {
     "data": {
      "application/vnd.jupyter.widget-view+json": {
       "model_id": "96aaf679acc942b8b1d23d312ef61cc4",
       "version_major": 2,
       "version_minor": 0
      },
      "text/plain": [
       "Output()"
      ]
     },
     "metadata": {},
     "output_type": "display_data"
    },
    {
     "data": {
      "text/html": [
       "<pre style=\"white-space:pre;overflow-x:auto;line-height:normal;font-family:Menlo,'DejaVu Sans Mono',consolas,'Courier New',monospace\"></pre>\n"
      ],
      "text/plain": []
     },
     "metadata": {},
     "output_type": "display_data"
    },
    {
     "name": "stdout",
     "output_type": "stream",
     "text": [
      "[{'role': 'assistant', 'type': 'message', 'content': 'Hello! How can I assist you today? If you have any specific tasks or questions, feel free to let me know!'}]\n"
     ]
    }
   ],
   "source": [
    "# agent_1 = OpenInterpreter()\n",
    "# response = agent_1.chat(\"Testing 1 2 3\")\n",
    "# print(response)"
   ]
  },
  {
   "cell_type": "code",
   "execution_count": 3,
   "id": "8a0faf0e-b4b2-45cb-80b5-72389d866977",
   "metadata": {},
   "outputs": [],
   "source": [
    "def print_agent_attrs(agent):\n",
    "    # Get the dictionary of attributes\n",
    "    attributes = agent.__dict__\n",
    "    \n",
    "    # Create a list of tuples containing key and type of value\n",
    "    attributes_with_types = [(key, type(value).__name__) for key, value in attributes.items()]\n",
    "    \n",
    "    # Print the result\n",
    "    for key, value_type in attributes_with_types:\n",
    "        print(f\"{key}: {value_type}\")"
   ]
  },
  {
   "cell_type": "code",
   "execution_count": 4,
   "id": "78ad77d7-d115-4284-a466-2b8d80151a77",
   "metadata": {},
   "outputs": [],
   "source": [
    "def init_states(agent):\n",
    "\n",
    "    agent.states = [\"SPECTATE\",\"MUTATE\",\"DICTATE\"]\n",
    "    agent.state = \"SPECTATE\"\n",
    "\n",
    "    return agent"
   ]
  },
  {
   "cell_type": "code",
   "execution_count": 5,
   "id": "65cde1a0-9377-4f00-99c3-ad38528b8037",
   "metadata": {},
   "outputs": [],
   "source": [
    "class FIFOQueue:\n",
    "    def __init__(self):\n",
    "        self.queue = []\n",
    "\n",
    "    def enqueue(self, item):\n",
    "        self.queue.append(item)\n",
    "\n",
    "    def dequeue(self):\n",
    "        if not self.is_empty():\n",
    "            return self.queue.pop(0)\n",
    "        else:\n",
    "            raise IndexError(\"Dequeue from an empty queue\")\n",
    "\n",
    "    def is_empty(self):\n",
    "        return len(self.queue) == 0\n",
    "\n",
    "    def size(self):\n",
    "        return len(self.queue)"
   ]
  },
  {
   "cell_type": "code",
   "execution_count": 15,
   "id": "9d0c22a5-ca5d-4c36-9b48-7b4309322cd1",
   "metadata": {},
   "outputs": [
    {
     "name": "stdout",
     "output_type": "stream",
     "text": [
      "[Agent 1] Current State: SPECTATE\n",
      "[Agent 1] Inbox Size: 1\n",
      "[Agent 1] Received message: {'role': 'user', 'content': 'Quick! I need two cat facts! Quick!', 'type': 'message'}\n",
      "[Agent 1] New State: MUTATE\n",
      "[Agent 2] Current State: SPECTATE\n",
      "[Agent 2] Inbox Size: 0\n",
      "[Agent 2] New State: SPECTATE\n",
      "[Agent 1] Current State: MUTATE\n",
      "[Agent 1] Inbox Size: 0\n",
      "[Agent 1] Internal state after mutation: [{'role': 'user', 'content': 'Quick! I need two cat facts! Quick!', 'type': 'message'}]\n",
      "[Agent 1] New State: DICTATE\n",
      "[Agent 2] Current State: SPECTATE\n",
      "[Agent 2] Inbox Size: 0\n",
      "[Agent 2] New State: SPECTATE\n",
      "[Agent 1] Current State: DICTATE\n",
      "[Agent 1] Inbox Size: 0\n",
      "\n"
     ]
    },
    {
     "data": {
      "text/html": [
       "<pre style=\"white-space:pre;overflow-x:auto;line-height:normal;font-family:Menlo,'DejaVu Sans Mono',consolas,'Courier New',monospace\"><span style=\"font-weight: bold\">We were unable to determine the context window of this model.</span> Defaulting to 3000.                                  \n",
       "</pre>\n"
      ],
      "text/plain": [
       "\u001b[1mWe were unable to determine the context window of this model.\u001b[0m Defaulting to 3000.                                  \n"
      ]
     },
     "metadata": {},
     "output_type": "display_data"
    },
    {
     "name": "stdout",
     "output_type": "stream",
     "text": [
      "\n"
     ]
    },
    {
     "data": {
      "text/html": [
       "<pre style=\"white-space:pre;overflow-x:auto;line-height:normal;font-family:Menlo,'DejaVu Sans Mono',consolas,'Courier New',monospace\">If your model can handle more, run <span style=\"color: #008080; text-decoration-color: #008080; background-color: #000000; font-weight: bold\">self.context_window = {token limit}</span>.                                            \n",
       "</pre>\n"
      ],
      "text/plain": [
       "If your model can handle more, run \u001b[1;36;40mself.context_window = {token limit}\u001b[0m.                                            \n"
      ]
     },
     "metadata": {},
     "output_type": "display_data"
    },
    {
     "name": "stdout",
     "output_type": "stream",
     "text": [
      "\n"
     ]
    },
    {
     "data": {
      "text/html": [
       "<pre style=\"white-space:pre;overflow-x:auto;line-height:normal;font-family:Menlo,'DejaVu Sans Mono',consolas,'Courier New',monospace\">Also please set <span style=\"color: #008080; text-decoration-color: #008080; background-color: #000000; font-weight: bold\">self.max_tokens = {max tokens per response}</span>.                                                       \n",
       "</pre>\n"
      ],
      "text/plain": [
       "Also please set \u001b[1;36;40mself.max_tokens = {max tokens per response}\u001b[0m.                                                       \n"
      ]
     },
     "metadata": {},
     "output_type": "display_data"
    },
    {
     "name": "stdout",
     "output_type": "stream",
     "text": [
      "\n"
     ]
    },
    {
     "data": {
      "text/html": [
       "<pre style=\"white-space:pre;overflow-x:auto;line-height:normal;font-family:Menlo,'DejaVu Sans Mono',consolas,'Courier New',monospace\">Continuing...                                                                                                      \n",
       "</pre>\n"
      ],
      "text/plain": [
       "Continuing...                                                                                                      \n"
      ]
     },
     "metadata": {},
     "output_type": "display_data"
    },
    {
     "name": "stdout",
     "output_type": "stream",
     "text": [
      "\n",
      "[Agent 1] Generated new message: [{'role': 'assistant', 'type': 'message', 'content': \"I'll retrieve two cat facts for you quickly.\\n\\n**Plan**:\\n1. Execute a code block to fetch two cat facts from an API using JavaScript.\\n2. Display the cat facts to you.\\n\\nLet's start by fetching the cat facts.\"}, {'role': 'assistant', 'type': 'code', 'format': 'javascript', 'content': \"const https = require('https');\\n\\nhttps.get('https://catfact.ninja/facts?limit=2', (resp) => {\\n  let data = '';\\n\\n  resp.on('data', (chunk) => {\\n    data += chunk;\\n  });\\n\\n  resp.on('end', () => {\\n    console.log(data);\\n  });\\n\\n}).on('error', (err) => {\\n  console.log('Error: ' + err.message);\\n});\"}, {'role': 'computer', 'type': 'console', 'format': 'output', 'content': ''}, {'role': 'computer', 'type': 'console', 'format': 'output', 'content': 'Output truncated. Showing the last 2800 characters.\\n\\nveTimeout: 0,_onPendingData: [Function: nop],agent: Agent {_events: [Object: null prototype] {free: [Function (anonymous)],newListener: [Function: maybeEnableKeylog]},_eventsCount: 2,_maxListeners: undefined,defaultPort: 443,protocol: \\'https:\\',options: [Object: null prototype] { path: null },requests: [Object: null prototype] {},sockets: [Object: null prototype] {\\'catfact.ninja:443:::::::::::::::::::::\\': [Array]},freeSockets: [Object: null prototype] {},keepAliveMsecs: 1000,keepAlive: false,maxSockets: Infinity,maxFreeSockets: 256,scheduling: \\'lifo\\',maxTotalSockets: Infinity,totalSocketCount: 1,maxCachedSessions: 100,_sessionCache: { map: {}, list: [] },[Symbol(kCapture)]: false},socketPath: undefined,method: \\'GET\\',maxHeaderSize: undefined,insecureHTTPParser: undefined,path: \\'/facts?limit=2\\',_ended: false,res: null,aborted: false,timeoutCb: null,upgradeOrConnect: false,parser: null,maxHeadersCount: null,reusedSocket: false,host: \\'catfact.ninja\\',protocol: \\'https:\\',[Symbol(kCapture)]: false,[Symbol(kNeedDrain)]: false,[Symbol(corked)]: 0,[Symbol(kOutHeaders)]: [Object: null prototype] { host: [ \\'Host\\', \\'catfact.ninja\\' ] }}{\"current_page\":1,\"data\":[{\"fact\":\"Unlike dogs, cats do not have a sweet tooth. Scientists believe this is due to a mutation in a key taste receptor.\",\"length\":114},{\"fact\":\"When a cat chases its prey, it keeps its head level. Dogs and humans bob their heads up and down.\",\"length\":97}],\"first_page_url\":\"https:\\\\/\\\\/catfact.ninja\\\\/facts?page=1\",\"from\":1,\"last_page\":166,\"last_page_url\":\"https:\\\\/\\\\/catfact.ninja\\\\/facts?page=166\",\"links\":[{\"url\":null,\"label\":\"Previous\",\"active\":false},{\"url\":\"https:\\\\/\\\\/catfact.ninja\\\\/facts?page=1\",\"label\":\"1\",\"active\":true},{\"url\":\"https:\\\\/\\\\/catfact.ninja\\\\/facts?page=2\",\"label\":\"2\",\"active\":false},{\"url\":\"https:\\\\/\\\\/catfact.ninja\\\\/facts?page=3\",\"label\":\"3\",\"active\":false},{\"url\":\"https:\\\\/\\\\/catfact.ninja\\\\/facts?page=4\",\"label\":\"4\",\"active\":false},{\"url\":\"https:\\\\/\\\\/catfact.ninja\\\\/facts?page=5\",\"label\":\"5\",\"active\":false},{\"url\":\"https:\\\\/\\\\/catfact.ninja\\\\/facts?page=6\",\"label\":\"6\",\"active\":false},{\"url\":\"https:\\\\/\\\\/catfact.ninja\\\\/facts?page=7\",\"label\":\"7\",\"active\":false},{\"url\":\"https:\\\\/\\\\/catfact.ninja\\\\/facts?page=8\",\"label\":\"8\",\"active\":false},{\"url\":\"https:\\\\/\\\\/catfact.ninja\\\\/facts?page=9\",\"label\":\"9\",\"active\":false},{\"url\":\"https:\\\\/\\\\/catfact.ninja\\\\/facts?page=10\",\"label\":\"10\",\"active\":false},{\"url\":null,\"label\":\"...\",\"active\":false},{\"url\":\"https:\\\\/\\\\/catfact.ninja\\\\/facts?page=165\",\"label\":\"165\",\"active\":false},{\"url\":\"https:\\\\/\\\\/catfact.ninja\\\\/facts?page=166\",\"label\":\"166\",\"active\":false},{\"url\":\"https:\\\\/\\\\/catfact.ninja\\\\/facts?page=2\",\"label\":\"Next\",\"active\":false}],\"next_page_url\":\"https:\\\\/\\\\/catfact.ninja\\\\/facts?page=2\",\"path\":\"https:\\\\/\\\\/catfact.ninja\\\\/facts\",\"per_page\":2,\"prev_page_url\":null,\"to\":2,\"total\":332}'}, {'role': 'assistant', 'type': 'message', 'content': 'Here are two quick cat facts for you:\\n\\n1. Unlike dogs, cats do not have a sweet tooth. Scientists believe this is due to a mutation in a key taste receptor.\\n2. When a cat chases its prey, it keeps its head level. Dogs and humans bob their heads up and down.'}]\n",
      "swapping roles: [{'role': 'assistant', 'type': 'message', 'content': \"I'll retrieve two cat facts for you quickly.\\n\\n**Plan**:\\n1. Execute a code block to fetch two cat facts from an API using JavaScript.\\n2. Display the cat facts to you.\\n\\nLet's start by fetching the cat facts.\"}, {'role': 'assistant', 'type': 'code', 'format': 'javascript', 'content': \"const https = require('https');\\n\\nhttps.get('https://catfact.ninja/facts?limit=2', (resp) => {\\n  let data = '';\\n\\n  resp.on('data', (chunk) => {\\n    data += chunk;\\n  });\\n\\n  resp.on('end', () => {\\n    console.log(data);\\n  });\\n\\n}).on('error', (err) => {\\n  console.log('Error: ' + err.message);\\n});\"}, {'role': 'computer', 'type': 'console', 'format': 'output', 'content': ''}, {'role': 'computer', 'type': 'console', 'format': 'output', 'content': 'Output truncated. Showing the last 2800 characters.\\n\\nveTimeout: 0,_onPendingData: [Function: nop],agent: Agent {_events: [Object: null prototype] {free: [Function (anonymous)],newListener: [Function: maybeEnableKeylog]},_eventsCount: 2,_maxListeners: undefined,defaultPort: 443,protocol: \\'https:\\',options: [Object: null prototype] { path: null },requests: [Object: null prototype] {},sockets: [Object: null prototype] {\\'catfact.ninja:443:::::::::::::::::::::\\': [Array]},freeSockets: [Object: null prototype] {},keepAliveMsecs: 1000,keepAlive: false,maxSockets: Infinity,maxFreeSockets: 256,scheduling: \\'lifo\\',maxTotalSockets: Infinity,totalSocketCount: 1,maxCachedSessions: 100,_sessionCache: { map: {}, list: [] },[Symbol(kCapture)]: false},socketPath: undefined,method: \\'GET\\',maxHeaderSize: undefined,insecureHTTPParser: undefined,path: \\'/facts?limit=2\\',_ended: false,res: null,aborted: false,timeoutCb: null,upgradeOrConnect: false,parser: null,maxHeadersCount: null,reusedSocket: false,host: \\'catfact.ninja\\',protocol: \\'https:\\',[Symbol(kCapture)]: false,[Symbol(kNeedDrain)]: false,[Symbol(corked)]: 0,[Symbol(kOutHeaders)]: [Object: null prototype] { host: [ \\'Host\\', \\'catfact.ninja\\' ] }}{\"current_page\":1,\"data\":[{\"fact\":\"Unlike dogs, cats do not have a sweet tooth. Scientists believe this is due to a mutation in a key taste receptor.\",\"length\":114},{\"fact\":\"When a cat chases its prey, it keeps its head level. Dogs and humans bob their heads up and down.\",\"length\":97}],\"first_page_url\":\"https:\\\\/\\\\/catfact.ninja\\\\/facts?page=1\",\"from\":1,\"last_page\":166,\"last_page_url\":\"https:\\\\/\\\\/catfact.ninja\\\\/facts?page=166\",\"links\":[{\"url\":null,\"label\":\"Previous\",\"active\":false},{\"url\":\"https:\\\\/\\\\/catfact.ninja\\\\/facts?page=1\",\"label\":\"1\",\"active\":true},{\"url\":\"https:\\\\/\\\\/catfact.ninja\\\\/facts?page=2\",\"label\":\"2\",\"active\":false},{\"url\":\"https:\\\\/\\\\/catfact.ninja\\\\/facts?page=3\",\"label\":\"3\",\"active\":false},{\"url\":\"https:\\\\/\\\\/catfact.ninja\\\\/facts?page=4\",\"label\":\"4\",\"active\":false},{\"url\":\"https:\\\\/\\\\/catfact.ninja\\\\/facts?page=5\",\"label\":\"5\",\"active\":false},{\"url\":\"https:\\\\/\\\\/catfact.ninja\\\\/facts?page=6\",\"label\":\"6\",\"active\":false},{\"url\":\"https:\\\\/\\\\/catfact.ninja\\\\/facts?page=7\",\"label\":\"7\",\"active\":false},{\"url\":\"https:\\\\/\\\\/catfact.ninja\\\\/facts?page=8\",\"label\":\"8\",\"active\":false},{\"url\":\"https:\\\\/\\\\/catfact.ninja\\\\/facts?page=9\",\"label\":\"9\",\"active\":false},{\"url\":\"https:\\\\/\\\\/catfact.ninja\\\\/facts?page=10\",\"label\":\"10\",\"active\":false},{\"url\":null,\"label\":\"...\",\"active\":false},{\"url\":\"https:\\\\/\\\\/catfact.ninja\\\\/facts?page=165\",\"label\":\"165\",\"active\":false},{\"url\":\"https:\\\\/\\\\/catfact.ninja\\\\/facts?page=166\",\"label\":\"166\",\"active\":false},{\"url\":\"https:\\\\/\\\\/catfact.ninja\\\\/facts?page=2\",\"label\":\"Next\",\"active\":false}],\"next_page_url\":\"https:\\\\/\\\\/catfact.ninja\\\\/facts?page=2\",\"path\":\"https:\\\\/\\\\/catfact.ninja\\\\/facts\",\"per_page\":2,\"prev_page_url\":null,\"to\":2,\"total\":332}'}, {'role': 'assistant', 'type': 'message', 'content': 'Here are two quick cat facts for you:\\n\\n1. Unlike dogs, cats do not have a sweet tooth. Scientists believe this is due to a mutation in a key taste receptor.\\n2. When a cat chases its prey, it keeps its head level. Dogs and humans bob their heads up and down.'}]\n",
      "swapped roles: [{'role': 'user', 'type': 'message', 'content': \"I'll retrieve two cat facts for you quickly.\\n\\n**Plan**:\\n1. Execute a code block to fetch two cat facts from an API using JavaScript.\\n2. Display the cat facts to you.\\n\\nLet's start by fetching the cat facts.\"}, {'role': 'user', 'type': 'code', 'format': 'javascript', 'content': \"const https = require('https');\\n\\nhttps.get('https://catfact.ninja/facts?limit=2', (resp) => {\\n  let data = '';\\n\\n  resp.on('data', (chunk) => {\\n    data += chunk;\\n  });\\n\\n  resp.on('end', () => {\\n    console.log(data);\\n  });\\n\\n}).on('error', (err) => {\\n  console.log('Error: ' + err.message);\\n});\"}, {'role': 'computer', 'type': 'console', 'format': 'output', 'content': ''}, {'role': 'computer', 'type': 'console', 'format': 'output', 'content': 'Output truncated. Showing the last 2800 characters.\\n\\nveTimeout: 0,_onPendingData: [Function: nop],agent: Agent {_events: [Object: null prototype] {free: [Function (anonymous)],newListener: [Function: maybeEnableKeylog]},_eventsCount: 2,_maxListeners: undefined,defaultPort: 443,protocol: \\'https:\\',options: [Object: null prototype] { path: null },requests: [Object: null prototype] {},sockets: [Object: null prototype] {\\'catfact.ninja:443:::::::::::::::::::::\\': [Array]},freeSockets: [Object: null prototype] {},keepAliveMsecs: 1000,keepAlive: false,maxSockets: Infinity,maxFreeSockets: 256,scheduling: \\'lifo\\',maxTotalSockets: Infinity,totalSocketCount: 1,maxCachedSessions: 100,_sessionCache: { map: {}, list: [] },[Symbol(kCapture)]: false},socketPath: undefined,method: \\'GET\\',maxHeaderSize: undefined,insecureHTTPParser: undefined,path: \\'/facts?limit=2\\',_ended: false,res: null,aborted: false,timeoutCb: null,upgradeOrConnect: false,parser: null,maxHeadersCount: null,reusedSocket: false,host: \\'catfact.ninja\\',protocol: \\'https:\\',[Symbol(kCapture)]: false,[Symbol(kNeedDrain)]: false,[Symbol(corked)]: 0,[Symbol(kOutHeaders)]: [Object: null prototype] { host: [ \\'Host\\', \\'catfact.ninja\\' ] }}{\"current_page\":1,\"data\":[{\"fact\":\"Unlike dogs, cats do not have a sweet tooth. Scientists believe this is due to a mutation in a key taste receptor.\",\"length\":114},{\"fact\":\"When a cat chases its prey, it keeps its head level. Dogs and humans bob their heads up and down.\",\"length\":97}],\"first_page_url\":\"https:\\\\/\\\\/catfact.ninja\\\\/facts?page=1\",\"from\":1,\"last_page\":166,\"last_page_url\":\"https:\\\\/\\\\/catfact.ninja\\\\/facts?page=166\",\"links\":[{\"url\":null,\"label\":\"Previous\",\"active\":false},{\"url\":\"https:\\\\/\\\\/catfact.ninja\\\\/facts?page=1\",\"label\":\"1\",\"active\":true},{\"url\":\"https:\\\\/\\\\/catfact.ninja\\\\/facts?page=2\",\"label\":\"2\",\"active\":false},{\"url\":\"https:\\\\/\\\\/catfact.ninja\\\\/facts?page=3\",\"label\":\"3\",\"active\":false},{\"url\":\"https:\\\\/\\\\/catfact.ninja\\\\/facts?page=4\",\"label\":\"4\",\"active\":false},{\"url\":\"https:\\\\/\\\\/catfact.ninja\\\\/facts?page=5\",\"label\":\"5\",\"active\":false},{\"url\":\"https:\\\\/\\\\/catfact.ninja\\\\/facts?page=6\",\"label\":\"6\",\"active\":false},{\"url\":\"https:\\\\/\\\\/catfact.ninja\\\\/facts?page=7\",\"label\":\"7\",\"active\":false},{\"url\":\"https:\\\\/\\\\/catfact.ninja\\\\/facts?page=8\",\"label\":\"8\",\"active\":false},{\"url\":\"https:\\\\/\\\\/catfact.ninja\\\\/facts?page=9\",\"label\":\"9\",\"active\":false},{\"url\":\"https:\\\\/\\\\/catfact.ninja\\\\/facts?page=10\",\"label\":\"10\",\"active\":false},{\"url\":null,\"label\":\"...\",\"active\":false},{\"url\":\"https:\\\\/\\\\/catfact.ninja\\\\/facts?page=165\",\"label\":\"165\",\"active\":false},{\"url\":\"https:\\\\/\\\\/catfact.ninja\\\\/facts?page=166\",\"label\":\"166\",\"active\":false},{\"url\":\"https:\\\\/\\\\/catfact.ninja\\\\/facts?page=2\",\"label\":\"Next\",\"active\":false}],\"next_page_url\":\"https:\\\\/\\\\/catfact.ninja\\\\/facts?page=2\",\"path\":\"https:\\\\/\\\\/catfact.ninja\\\\/facts\",\"per_page\":2,\"prev_page_url\":null,\"to\":2,\"total\":332}'}, {'role': 'user', 'type': 'message', 'content': 'Here are two quick cat facts for you:\\n\\n1. Unlike dogs, cats do not have a sweet tooth. Scientists believe this is due to a mutation in a key taste receptor.\\n2. When a cat chases its prey, it keeps its head level. Dogs and humans bob their heads up and down.'}]\n",
      "[Agent 1] Sent message to Agent 2: I'll retrieve two cat facts for you quickly.\n",
      "\n",
      "**Plan**:\n",
      "1. Execute a code block to fetch two cat facts from an API using JavaScript.\n",
      "2. Display the cat facts to you.\n",
      "\n",
      "Let's start by fetching the cat facts.\n",
      "[Agent 1] Sent message to Agent 2: const https = require('https');\n",
      "\n",
      "https.get('https://catfact.ninja/facts?limit=2', (resp) => {\n",
      "  let data = '';\n",
      "\n",
      "  resp.on('data', (chunk) => {\n",
      "    data += chunk;\n",
      "  });\n",
      "\n",
      "  resp.on('end', () => {\n",
      "    console.log(data);\n",
      "  });\n",
      "\n",
      "}).on('error', (err) => {\n",
      "  console.log('Error: ' + err.message);\n",
      "});\n",
      "[Agent 1] Sent message to Agent 2: \n",
      "[Agent 1] Sent message to Agent 2: Output truncated. Showing the last 2800 characters.\n",
      "\n",
      "veTimeout: 0,_onPendingData: [Function: nop],agent: Agent {_events: [Object: null prototype] {free: [Function (anonymous)],newListener: [Function: maybeEnableKeylog]},_eventsCount: 2,_maxListeners: undefined,defaultPort: 443,protocol: 'https:',options: [Object: null prototype] { path: null },requests: [Object: null prototype] {},sockets: [Object: null prototype] {'catfact.ninja:443:::::::::::::::::::::': [Array]},freeSockets: [Object: null prototype] {},keepAliveMsecs: 1000,keepAlive: false,maxSockets: Infinity,maxFreeSockets: 256,scheduling: 'lifo',maxTotalSockets: Infinity,totalSocketCount: 1,maxCachedSessions: 100,_sessionCache: { map: {}, list: [] },[Symbol(kCapture)]: false},socketPath: undefined,method: 'GET',maxHeaderSize: undefined,insecureHTTPParser: undefined,path: '/facts?limit=2',_ended: false,res: null,aborted: false,timeoutCb: null,upgradeOrConnect: false,parser: null,maxHeadersCount: null,reusedSocket: false,host: 'catfact.ninja',protocol: 'https:',[Symbol(kCapture)]: false,[Symbol(kNeedDrain)]: false,[Symbol(corked)]: 0,[Symbol(kOutHeaders)]: [Object: null prototype] { host: [ 'Host', 'catfact.ninja' ] }}{\"current_page\":1,\"data\":[{\"fact\":\"Unlike dogs, cats do not have a sweet tooth. Scientists believe this is due to a mutation in a key taste receptor.\",\"length\":114},{\"fact\":\"When a cat chases its prey, it keeps its head level. Dogs and humans bob their heads up and down.\",\"length\":97}],\"first_page_url\":\"https:\\/\\/catfact.ninja\\/facts?page=1\",\"from\":1,\"last_page\":166,\"last_page_url\":\"https:\\/\\/catfact.ninja\\/facts?page=166\",\"links\":[{\"url\":null,\"label\":\"Previous\",\"active\":false},{\"url\":\"https:\\/\\/catfact.ninja\\/facts?page=1\",\"label\":\"1\",\"active\":true},{\"url\":\"https:\\/\\/catfact.ninja\\/facts?page=2\",\"label\":\"2\",\"active\":false},{\"url\":\"https:\\/\\/catfact.ninja\\/facts?page=3\",\"label\":\"3\",\"active\":false},{\"url\":\"https:\\/\\/catfact.ninja\\/facts?page=4\",\"label\":\"4\",\"active\":false},{\"url\":\"https:\\/\\/catfact.ninja\\/facts?page=5\",\"label\":\"5\",\"active\":false},{\"url\":\"https:\\/\\/catfact.ninja\\/facts?page=6\",\"label\":\"6\",\"active\":false},{\"url\":\"https:\\/\\/catfact.ninja\\/facts?page=7\",\"label\":\"7\",\"active\":false},{\"url\":\"https:\\/\\/catfact.ninja\\/facts?page=8\",\"label\":\"8\",\"active\":false},{\"url\":\"https:\\/\\/catfact.ninja\\/facts?page=9\",\"label\":\"9\",\"active\":false},{\"url\":\"https:\\/\\/catfact.ninja\\/facts?page=10\",\"label\":\"10\",\"active\":false},{\"url\":null,\"label\":\"...\",\"active\":false},{\"url\":\"https:\\/\\/catfact.ninja\\/facts?page=165\",\"label\":\"165\",\"active\":false},{\"url\":\"https:\\/\\/catfact.ninja\\/facts?page=166\",\"label\":\"166\",\"active\":false},{\"url\":\"https:\\/\\/catfact.ninja\\/facts?page=2\",\"label\":\"Next\",\"active\":false}],\"next_page_url\":\"https:\\/\\/catfact.ninja\\/facts?page=2\",\"path\":\"https:\\/\\/catfact.ninja\\/facts\",\"per_page\":2,\"prev_page_url\":null,\"to\":2,\"total\":332}\n",
      "[Agent 1] Sent message to Agent 2: Here are two quick cat facts for you:\n",
      "\n",
      "1. Unlike dogs, cats do not have a sweet tooth. Scientists believe this is due to a mutation in a key taste receptor.\n",
      "2. When a cat chases its prey, it keeps its head level. Dogs and humans bob their heads up and down.\n",
      "[Agent 1] New State: SPECTATE\n",
      "[Agent 2] Current State: SPECTATE\n",
      "[Agent 2] Inbox Size: 5\n",
      "[Agent 2] Received message: {'role': 'user', 'type': 'message', 'content': \"I'll retrieve two cat facts for you quickly.\\n\\n**Plan**:\\n1. Execute a code block to fetch two cat facts from an API using JavaScript.\\n2. Display the cat facts to you.\\n\\nLet's start by fetching the cat facts.\"}\n",
      "[Agent 2] New State: MUTATE\n"
     ]
    }
   ],
   "source": [
    "class Agent:\n",
    "    def __init__(self, name, max_messages):\n",
    "        self.name = name\n",
    "        self.states = [\"SPECTATE\", \"MUTATE\", \"DICTATE\"]\n",
    "        self.state = \"SPECTATE\"\n",
    "        self.inbox = FIFOQueue()\n",
    "        self.internal_state = []\n",
    "        self.oi = OpenInterpreter()\n",
    "        self.other_agents = []\n",
    "        self.max_messages = max_messages\n",
    "        self.num_messages_sent = 0\n",
    "        self.generated_new_message = \"\"\n",
    "        self.most_recently_received_message = \"\"\n",
    "\n",
    "    def add_other_agent(self, agent):\n",
    "        self.other_agents.append(agent)\n",
    "\n",
    "    def handle_state(self):\n",
    "        print(f\"[{self.name}] Current State: {self.state}\")\n",
    "        print(f\"[{self.name}] Inbox Size: {self.inbox.size()}\")\n",
    "\n",
    "        if self.state == \"SPECTATE\":\n",
    "            if not self.inbox.is_empty():\n",
    "                self.most_recently_received_message = self.inbox.dequeue()\n",
    "                print(f\"[{self.name}] Received message: {self.most_recently_received_message}\")\n",
    "                self.state = \"MUTATE\"\n",
    "\n",
    "        elif self.state == \"MUTATE\":\n",
    "            self.internal_state.append(self.most_recently_received_message)\n",
    "            print(f\"[{self.name}] Internal state after mutation: {self.internal_state}\")\n",
    "            self.state = \"DICTATE\"\n",
    "\n",
    "        elif self.state == \"DICTATE\":\n",
    "            if self.num_messages_sent < self.max_messages:\n",
    "                messages = [{\"role\": \"user\", \n",
    "                             \"content\": self.most_recently_received_message[\"content\"], \n",
    "                             \"type\": \"message\"}]\n",
    "                new_message = self.oi.chat(messages, display=False, stream=False)\n",
    "                print(f\"[{self.name}] Generated new message: {new_message}\")\n",
    "                self.send_message_to_agents(self.swap_roles(new_message))\n",
    "                self.num_messages_sent += 1\n",
    "            else:\n",
    "                print(f\"[{self.name}] Max messages sent reached\")\n",
    "            self.most_recently_received_message = \"\"\n",
    "            self.state = \"SPECTATE\"\n",
    "\n",
    "        print(f\"[{self.name}] New State: {self.state}\")\n",
    "\n",
    "    def mutate_state(self, internal_state):\n",
    "        internal_state['mutated'] = True\n",
    "        print(f\"[{self.name}] Internal state mutated\")\n",
    "        return internal_state\n",
    "\n",
    "    def send_message_to_agents(self, messages):\n",
    "        for message in messages:\n",
    "            for agent in self.other_agents:\n",
    "                agent.inbox.enqueue(message)\n",
    "                print(f\"[{self.name}] Sent message to {agent.name}: {message['content']}\")\n",
    "\n",
    "    def swap_roles(self, messages):\n",
    "        print(\"swapping roles:\", messages)\n",
    "        for message in messages:\n",
    "            if message['role'] == 'user':\n",
    "                message['role'] = 'assistant'\n",
    "            elif message['role'] == 'assistant':\n",
    "                message['role'] = 'user'\n",
    "        print(\"swapped roles:\", messages)\n",
    "        return messages\n",
    "\n",
    "# Create two instances of the agent with a max message limit\n",
    "agent_1 = Agent(\"Agent 1\", max_messages=5)\n",
    "agent_2 = Agent(\"Agent 2\", max_messages=5)\n",
    "\n",
    "# Add each agent to the other's list of agents\n",
    "agent_1.add_other_agent(agent_2)\n",
    "agent_2.add_other_agent(agent_1)\n",
    "\n",
    "# Simulate receiving a message\n",
    "agent_1.inbox.enqueue({\"role\": \"user\", \"content\": \"Quick! I need two cat facts! Quick!\", \"type\": \"message\"})\n",
    "\n",
    "# Run the state handler function to control the agents\n",
    "agent_1.handle_state()\n",
    "agent_2.handle_state()\n",
    "\n",
    "agent_1.handle_state()\n",
    "agent_2.handle_state()\n",
    "\n",
    "agent_1.handle_state()\n",
    "agent_2.handle_state()\n"
   ]
  },
  {
   "cell_type": "code",
   "execution_count": null,
   "id": "f4c863fc-39b5-477a-ade0-0b654d8a8db1",
   "metadata": {},
   "outputs": [],
   "source": []
  },
  {
   "cell_type": "code",
   "execution_count": null,
   "id": "49baa232-9e5f-4fa9-a05d-0cc03092950c",
   "metadata": {},
   "outputs": [],
   "source": []
  },
  {
   "cell_type": "code",
   "execution_count": null,
   "id": "185e4f85-9509-46f4-8ba0-e4b9eb858b05",
   "metadata": {},
   "outputs": [],
   "source": []
  },
  {
   "cell_type": "code",
   "execution_count": null,
   "id": "1c66b932-01bf-428e-9f9e-1521ec9f41ed",
   "metadata": {},
   "outputs": [],
   "source": []
  },
  {
   "cell_type": "code",
   "execution_count": null,
   "id": "adaaa4af-54b7-41db-aed6-970acea3aabe",
   "metadata": {},
   "outputs": [],
   "source": []
  },
  {
   "cell_type": "code",
   "execution_count": null,
   "id": "cda48571-e88e-4d80-8288-03578f942d44",
   "metadata": {},
   "outputs": [],
   "source": []
  },
  {
   "cell_type": "code",
   "execution_count": null,
   "id": "3f404a4c-2b0c-4787-bd61-b59442df83a8",
   "metadata": {},
   "outputs": [],
   "source": []
  },
  {
   "cell_type": "code",
   "execution_count": null,
   "id": "1009a0fc-bfe8-4ca2-9539-e42f329ae0ce",
   "metadata": {},
   "outputs": [],
   "source": []
  },
  {
   "cell_type": "code",
   "execution_count": null,
   "id": "27a6ac18-a53f-440b-ae5c-08fceaca8d4c",
   "metadata": {},
   "outputs": [],
   "source": []
  },
  {
   "cell_type": "code",
   "execution_count": null,
   "id": "22e1724b-63d9-44e8-af9c-80ee1324d0d5",
   "metadata": {},
   "outputs": [],
   "source": []
  },
  {
   "cell_type": "code",
   "execution_count": null,
   "id": "45af3491-e42b-43e7-a058-d17e09716000",
   "metadata": {},
   "outputs": [],
   "source": []
  },
  {
   "cell_type": "code",
   "execution_count": null,
   "id": "d79954c7-bb08-40b7-ae39-5b399d923fa9",
   "metadata": {},
   "outputs": [],
   "source": []
  },
  {
   "cell_type": "code",
   "execution_count": null,
   "id": "9806d2d9-ce97-4980-a529-8e6d48968306",
   "metadata": {},
   "outputs": [],
   "source": []
  },
  {
   "cell_type": "code",
   "execution_count": null,
   "id": "607e2a6c-d2d7-47b3-89e6-f1b0b2522d5b",
   "metadata": {},
   "outputs": [],
   "source": []
  },
  {
   "cell_type": "code",
   "execution_count": null,
   "id": "7f35558d-1b4b-46c8-84e7-dba65c3b9a69",
   "metadata": {},
   "outputs": [],
   "source": []
  },
  {
   "cell_type": "code",
   "execution_count": null,
   "id": "4d9060ba-4a98-41f8-b21e-3fce243cb599",
   "metadata": {},
   "outputs": [],
   "source": []
  },
  {
   "cell_type": "code",
   "execution_count": null,
   "id": "39264016-98ba-4866-b5ed-9ccfef1e5d83",
   "metadata": {},
   "outputs": [],
   "source": []
  },
  {
   "cell_type": "code",
   "execution_count": null,
   "id": "fbf2b6da-2472-4f7f-865f-e938e1349f46",
   "metadata": {},
   "outputs": [],
   "source": []
  },
  {
   "cell_type": "code",
   "execution_count": null,
   "id": "e03ddf14-c093-4d6e-9b01-7b8081ef7164",
   "metadata": {},
   "outputs": [],
   "source": []
  },
  {
   "cell_type": "code",
   "execution_count": null,
   "id": "390aea94-40ce-410b-9eee-914b9bef5328",
   "metadata": {},
   "outputs": [],
   "source": []
  },
  {
   "cell_type": "code",
   "execution_count": null,
   "id": "ee93c68e-ab1b-4a3a-8315-37c00f1c76ca",
   "metadata": {},
   "outputs": [],
   "source": []
  }
 ],
 "metadata": {
  "kernelspec": {
   "display_name": "Python 3 (ipykernel)",
   "language": "python",
   "name": "python3"
  },
  "language_info": {
   "codemirror_mode": {
    "name": "ipython",
    "version": 3
   },
   "file_extension": ".py",
   "mimetype": "text/x-python",
   "name": "python",
   "nbconvert_exporter": "python",
   "pygments_lexer": "ipython3",
   "version": "3.12.4"
  }
 },
 "nbformat": 4,
 "nbformat_minor": 5
}
