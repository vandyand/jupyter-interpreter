{
 "cells": [
  {
   "cell_type": "code",
   "execution_count": null,
   "id": "d41caaba-1571-4586-8c0f-7c863386c2c2",
   "metadata": {},
   "outputs": [],
   "source": [
    "!pip install open-interpreter"
   ]
  },
  {
   "cell_type": "code",
   "execution_count": null,
   "id": "50b5c4d6-ab7e-4e15-b136-4639923d9c43",
   "metadata": {},
   "outputs": [],
   "source": [
    "from interpreter import OpenInterpreter\n",
    "import openai"
   ]
  },
  {
   "cell_type": "code",
   "execution_count": null,
   "id": "8a0faf0e-b4b2-45cb-80b5-72389d866977",
   "metadata": {},
   "outputs": [],
   "source": [
    "def print_agent_attrs(agent):\n",
    "    # Get the dictionary of attributes\n",
    "    attributes = agent.__dict__\n",
    "    \n",
    "    # Create a list of tuples containing key and type of value\n",
    "    attributes_with_types = [(key, type(value).__name__) for key, value in attributes.items()]\n",
    "    \n",
    "    # Print the result\n",
    "    for key, value_type in attributes_with_types:\n",
    "        print(f\"{key}: {value_type}\")"
   ]
  },
  {
   "cell_type": "code",
   "execution_count": null,
   "id": "cfffd372-0e11-4dba-aed1-296f83d23684",
   "metadata": {},
   "outputs": [],
   "source": [
    "def util_read_file(filename):\n",
    "    with open(filename, 'r') as f:\n",
    "        content = f.read()\n",
    "    return content\n",
    "\n",
    "def get_prompt(name):\n",
    "    filepath = f\"prompts/{name}.txt\"\n",
    "    return util_read_file(filepath)\n",
    "\n",
    "def get_current_task():\n",
    "    return util_read_file(\"current_task.txt\")"
   ]
  },
  {
   "cell_type": "code",
   "execution_count": null,
   "id": "e0d15747-0413-49c7-93eb-560452f27a65",
   "metadata": {},
   "outputs": [],
   "source": [
    "import time\n",
    "\n",
    "class FIFOQueue:\n",
    "    def __init__(self):\n",
    "        self.queue = []\n",
    "\n",
    "    def enqueue(self, items):\n",
    "        timestamp = time.time()\n",
    "        if not isinstance(items, list):\n",
    "            items = [items]\n",
    "        self.queue.append({\"timestamp\": timestamp, \"messages\": items})\n",
    "\n",
    "    def dequeue(self):\n",
    "        if not self.is_empty():\n",
    "            return self.queue.pop(0)\n",
    "        else:\n",
    "            raise IndexError(\"Dequeue from an empty queue\")\n",
    "\n",
    "    def is_empty(self):\n",
    "        return len(self.queue) == 0\n",
    "\n",
    "    def size(self):\n",
    "        return len(self.queue)\n"
   ]
  },
  {
   "cell_type": "code",
   "execution_count": 82,
   "id": "9d0c22a5-ca5d-4c36-9b48-7b4309322cd1",
   "metadata": {},
   "outputs": [],
   "source": [
    "import openai\n",
    "from openai import OpenAI\n",
    "import os\n",
    "import time\n",
    "\n",
    "def save_and_print(message, log_file='agent_log.txt'):\n",
    "    timestamp = int(time.time())\n",
    "    message_with_timestamp = f\"[{timestamp}] {message}\"\n",
    "    print(message_with_timestamp)\n",
    "    with open(log_file, 'a') as f:\n",
    "        f.write(message_with_timestamp + '\\n')\n",
    "\n",
    "class Agent:\n",
    "    def __init__(self, name, special_commands=\"\", mode=\"OpenInterpreter\", context_window=128000, max_tokens=10000):\n",
    "        self.name = name\n",
    "        self.states = [\"SPECTATE\", \"MUTATE\", \"DICTATE\"]\n",
    "        self.state = \"SPECTATE\"\n",
    "        self.inbox = FIFOQueue()\n",
    "        self.internal_state = []\n",
    "        self.mode = mode\n",
    "        self.model = \"gpt-4o-mini\"\n",
    "        self.context_window = context_window\n",
    "        self.max_tokens = max_tokens\n",
    "        self.generated_new_messages = []\n",
    "        self.most_recently_received_messages = []\n",
    "        self.other_agents = []\n",
    "\n",
    "        if self.mode == \"OpenInterpreter\":\n",
    "            self.oi = OpenInterpreter()\n",
    "            self.oi.llm.model = self.model\n",
    "            self.oi.llm.context_window = self.context_window\n",
    "            self.oi.llm.max_tokens = self.max_tokens\n",
    "            self.oi.system_message += special_commands\n",
    "            self.system_message = self.oi.system_message\n",
    "            self.oi.auto_run = True\n",
    "            self.oi.loop = False\n",
    "        elif self.mode == \"OpenAI\":\n",
    "            self.system_message = special_commands\n",
    "\n",
    "    def add_other_agent(self, agent):\n",
    "        self.other_agents.append(agent)\n",
    "\n",
    "    def handle_state(self):\n",
    "        save_and_print(f\"[{self.name}] Current State: {self.state}\")\n",
    "\n",
    "        if self.state == \"SPECTATE\":\n",
    "            if not self.inbox.is_empty():\n",
    "                self.most_recently_received_messages = self.inbox.dequeue()[\"messages\"]\n",
    "                save_and_print(f\"[{self.name}] Received message(s)\")\n",
    "                self.state = \"MUTATE\"\n",
    "\n",
    "        elif self.state == \"MUTATE\":\n",
    "            self.internal_state.extend(self.swap_roles(self.most_recently_received_messages))\n",
    "            save_and_print(f\"[{self.name}] Internal state mutated\")\n",
    "            if self.mode == \"OpenInterpreter\":\n",
    "                self.generated_new_messages = self.oi.chat(self.internal_state, display=True, stream=False, blocking=True)\n",
    "            elif self.mode == \"OpenAI\":\n",
    "                self.generated_new_messages = self.openai_chat(self.internal_state)\n",
    "            elif self.mode == \"Human\":\n",
    "                self.generated_new_messages = [{\"role\":\"user\", \"content\": self.blocking_input(\"Enter message:\"), \"type\": \"message\"}]\n",
    "            save_and_print(f\"[{self.name}] Generated new message(s)\")\n",
    "            if self.mode == \"OpenAI\":\n",
    "                save_and_print(f\"[{self.name}] New message(s): {self.generated_new_messages}\")\n",
    "            self.state = \"DICTATE\"\n",
    "\n",
    "        elif self.state == \"DICTATE\":\n",
    "            self.send_message_to_agents(self.generated_new_messages)\n",
    "            self.generated_new_messages = []\n",
    "            self.most_recently_received_messages = []\n",
    "            self.state = \"SPECTATE\"\n",
    "\n",
    "        save_and_print(f\"[{self.name}] New State: {self.state}\")\n",
    "\n",
    "    def send_message_to_agents(self, messages):\n",
    "        for agent in self.other_agents:\n",
    "            agent.inbox.enqueue(messages)\n",
    "            save_and_print(f\"[{self.name}] Sent message to {agent.name}\")\n",
    "\n",
    "    def swap_roles(self, messages):\n",
    "        for message in messages:\n",
    "            if message['role'] == 'user':\n",
    "                message['role'] = 'assistant'\n",
    "            elif message['role'] == 'assistant':\n",
    "                message['role'] = 'user'\n",
    "        return messages\n",
    "\n",
    "    def blocking_input(self, prompt):\n",
    "        print(prompt, end='', flush=True)\n",
    "        while True:\n",
    "            response = input()\n",
    "            if response:\n",
    "                return response\n",
    "            time.sleep(0.1)\n",
    "\n",
    "    def openai_chat(self, messages):\n",
    "        if self.mode != \"OpenAI\":\n",
    "            return None\n",
    "\n",
    "        for message in messages:\n",
    "            if message[\"role\"] not in [\"system\", \"user\", \"assistant\"]:\n",
    "                message[\"role\"] = \"assistant\"\n",
    "        \n",
    "        response_content = OpenAI().chat.completions.create(\n",
    "            model=self.model,\n",
    "            max_tokens=self.max_tokens,\n",
    "            messages=[\n",
    "                {\n",
    "                    \"role\":\"system\",\n",
    "                    \"content\": self.system_message\n",
    "                },\n",
    "                *messages\n",
    "            ],\n",
    "        ).choices[0].message.content\n",
    "        return [{\"role\":\"assistant\", \"content\": response_content, \"type\": \"message\"}]\n",
    "\n"
   ]
  },
  {
   "cell_type": "code",
   "execution_count": null,
   "id": "51b4a899-7434-4f59-810c-774d5ddfe423",
   "metadata": {},
   "outputs": [],
   "source": [
    "\n",
    "# Read Agent Prompts from prompts directory                                                                     \n",
    "roadmapper_prompt = \"\"\"                                                                                         \n",
    "You are the Roadmap Architect, responsible for creating a structured project roadmap based on the provided      \n",
    "requirements. Your tasks include identifying tasks, milestones, and their dependencies.                         \n",
    "To create the roadmap.json file, follow these steps:                                                            \n",
    "                                                                                                               \n",
    "1. Review unstructured project documents to identify key tasks and milestones.                                  \n",
    "2. Create detailed and clear descriptions for each task, ensuring all necessary information is included.        \n",
    "3. Initially, each task should have \"NOT_STARTED\" status.                                                       \n",
    "4. Ensure each task has a unique, auto-incrementing ID starting with 1.                                         \n",
    "5. Save the structured tasks into the \"roadmap.json\" file. Create this file if it doesn't exist.                \n",
    "                                                                                                               \n",
    "Your goal is to provide a clear and organized project roadmap that the project manager and development team c   \n",
    "follow.                                                                                                         \n",
    "Outside of these roles, you do not execute any code. You simply organize and structure project information to   \n",
    "ensure successful project completion.                                                                           \n",
    "\"\"\"                                                                                                             \n",
    "                                                                                                               \n",
    "manager_prompt = \"\"\"                                                                                            \n",
    "You are the project manager of a dynamic software development team. The current project roadmap is found in t   \n",
    "file \"roadmap.json\".                                                                                            \n",
    "                                                                                                               \n",
    "Your primary role is to create detailed and clear instructions for developers to follow. Your secondary role    \n",
    "to update the 'roadmap.json' file by marking tasks as \"status\": \"COMPLETED\" when they are done.                 \n",
    "                                                                                                               \n",
    "To improve tracking task progress and prevent duplication of effort, follow these steps:                        \n",
    "1. Instruct the developer to complete the following:                                                            \n",
    "  a. Make sure the task is working as expected.                                                                \n",
    "  b. Create a new git branch.                                                                                  \n",
    "  c. Commit changes to the new git branch.                                                                     \n",
    "  d. Push the new branch to origin.                                                                            \n",
    "  e. Update the task status to \"status\": \"COMPLETED\" in the 'roadmap.json' file.                               \n",
    "                                                                                                               \n",
    "2. Before considering a task complete, verify:                                                                  \n",
    "  a. The task status in 'roadmap.json' is marked as \"status\": \"COMPLETED\".                                     \n",
    "  b. The changes have been pushed to the origin in the new branch.                                             \n",
    "  c. If the task is not updated or missing from 'roadmap.json', request the developer to update it             \n",
    "immediately.                                                                                                    \n",
    "                                                                                                               \n",
    "3. If a task status is updated as \"status\": \"COMPLETED\" but still appears incomplete, communicate with the      \n",
    "developer to resolve discrepancies.                                                                             \n",
    "                                                                                                               \n",
    "The structure of each task in 'roadmap.json' is as follows:                                                     \n",
    "{                                                                                                               \n",
    "   \"id\": int (auto-incrementing),                                                                              \n",
    "   \"depends_on\": list[int] (ids of tasks this one depends on),                                                 \n",
    "   \"type\": \"TASK\" | \"MILESTONE\",                                                                               \n",
    "   \"name\": string (task name),                                                                                 \n",
    "   \"description\": string (task details),                                                                       \n",
    "   \"completion_criteria\": string (what needs to be accomplished to complete the task),                         \n",
    "   \"status\": \"NOT_STARTED\" | \"IN_PROGRESS\" | \"COMPLETED\",                                                      \n",
    "   \"sub_tasks\": list[Task] (recursive list of sub-tasks)                                                       \n",
    "}                                                                                                               \n",
    "                                                                                                               \n",
    "Outside of these roles, you do not execute any code. You simply provide guidance and direction to the team to   \n",
    "ensure successful project completion. If the current task has already been completed, please move to the next   \n",
    "task. If all tasks have been completed please respond with **ALL TASKS COMPLETED -- NOTHING TO DO**.            \n",
    "\"\"\"\n",
    "\n",
    "dev_prompt = \"\"\"\n",
    "You are a key member of a dynamic software development team.\n",
    "\n",
    "Your primary role is to write, test, and debug code based on the detailed instructions provided by the project manager.\n",
    "\n",
    "You actively collaborate with other team members to ensure the successful development and implementation of software projects.\n",
    "\n",
    "Please make sure to run any on-going perpetual services in the background so as not to hang your process.\n",
    "\n",
    "\"\"\"\n",
    "                                                                                                               \n",
    "# New Verifier Agent Prompt                                                                                     \n",
    "verifier_prompt = \"\"\"                                                                                           \n",
    "You are the Task Verifier, responsible for ensuring that tasks marked as complete meet all defined completion   \n",
    "criteria and dependencies.                                                                                      \n",
    "To perform your role, follow these guidelines:                                                                  \n",
    "                                                                                                               \n",
    "1. Before marking any task as \"COMPLETED\", review the \"completion_criteria\" defined in the task.                \n",
    "2. Confirm that:                                                                                                \n",
    "  a. All dependent tasks are marked as \"COMPLETED\".                                                            \n",
    "  b. The developer has provided evidence that the task meets the requirements (e.g., output, results).         \n",
    "                                                                                                               \n",
    "3. If the task does not meet the criteria, return feedback to the project manager to address any discrepancie   \n",
    "or issues with the task completion.                                                                             \n",
    "                                                                                                               \n",
    "Your goal is to maintain the integrity of the project roadmap and ensure that no tasks are falsely marked as    \n",
    "complete.                                                                                                       \n",
    "\"\"\"                                                                                                             \n",
    "                                                                                                               \n",
    "# Storing these prompts in a structured way for easy access                                                     \n",
    "prompts = {                                                                                                     \n",
    "\"roadmapper\": roadmapper_prompt,                                                                            \n",
    "\"manager\": manager_prompt,\n",
    "\"dev\": dev_prompt,\n",
    "\"verifier\": verifier_prompt                                                                                 \n",
    "}  "
   ]
  },
  {
   "cell_type": "code",
   "execution_count": null,
   "id": "ddc22dbc-7f60-4667-a9a5-0af37cfd5736",
   "metadata": {},
   "outputs": [],
   "source": [
    "roadmapper = Agent(\"Roadmap Architect\", prompts.roadmapper)\n",
    "pm = Agent(\"Project Manager\", prompts.manager, mode=\"OpenAI\")\n",
    "dev = Agent(\"Software Developer\", prompts.dev)\n",
    "verifier = Agent(\"Task verifier\", prompts.verifier, mode=\"OpenAI\")\n",
    "# human = Agent(\"Human guy\", \"You are a human\", mode=\"Human\")\n",
    "\n",
    "roadmapper.add_other_agent(pm)\n",
    "pm.add_other_agent(dev)\n",
    "dev.add_other_agent(verifier)\n",
    "verifier.add_other_agent(pm)\n",
    "# human.add_other_agent(pm)\n",
    "\n",
    "roadmapper.inbox.enqueue(\n",
    "    [{\"role\": \"user\", \"content\": f\"Here is the content of the project_description.txt file: \\n\\n {util_read_file(\"project_description.txt\")}\", \"type\": \"message\"},\n",
    "    {\"role\": \"user\", \"content\": \"Please proceed to create a very detailed roadmap.json file complete with nested heirarchical tasks and sub tasks. Please keep creating sub tasks of sub tasks until the deepest sub-tasks are optimally atomic such as to be achievable by an llm-backed open-interpreter ai agent.\", \"type\": \"message\"}])\n",
    "\n",
    "while True:\n",
    "    roadmapper.handle_state()\n",
    "    pm.handle_state()\n",
    "    dev.handle_state()\n",
    "    verifier.handle_state()\n",
    "    # human.handle_state()"
   ]
  },
  {
   "cell_type": "code",
   "execution_count": 69,
   "id": "e9201218-3c5c-4a98-8f80-2fd539462f49",
   "metadata": {},
   "outputs": [],
   "source": [
    "agent = Agent(\"Computer agent\", \"You enjoy conversing on any topic.\", mode=\"OpenAI\")\n",
    "human = Agent(\"Human agent\", \"blah blah\", mode=\"Human\")\n",
    "\n",
    "agent.add_other_agent(human)\n",
    "human.add_other_agent(agent)\n",
    "\n",
    "agent.inbox.enqueue([{\"role\": \"user\", \"content\": \"Testing 1 2 3\", \"type\": \"message\"}])"
   ]
  },
  {
   "cell_type": "code",
   "execution_count": null,
   "id": "607e2a6c-d2d7-47b3-89e6-f1b0b2522d5b",
   "metadata": {},
   "outputs": [],
   "source": [
    "while True:\n",
    "    agent.handle_state()\n",
    "    human.handle_state()"
   ]
  },
  {
   "cell_type": "code",
   "execution_count": null,
   "id": "7f35558d-1b4b-46c8-84e7-dba65c3b9a69",
   "metadata": {},
   "outputs": [],
   "source": []
  },
  {
   "cell_type": "code",
   "execution_count": 86,
   "id": "47e036cb-8f52-4d83-bf4d-3d8bf18f52b7",
   "metadata": {},
   "outputs": [],
   "source": [
    "agent = Agent(\"Computer agent\", \"You specialize in providing helpful feeback to the Human regarding improvements to your task tracking and execution capabilites.\")\n",
    "human = Agent(\"Human agent\", \"blah blah\", mode=\"Human\")\n",
    "\n",
    "agent.add_other_agent(human)\n",
    "human.add_other_agent(agent)\n",
    "\n",
    "agent.inbox.enqueue([{\"role\": \"user\", \"content\": \"Hello. Can you provide guidance on how to improve your task tracking and execution capabilites?\", \"type\": \"message\"}])"
   ]
  },
  {
   "cell_type": "code",
   "execution_count": 87,
   "id": "c3d6d491-f07f-4d5e-8d0f-30d48003e987",
   "metadata": {},
   "outputs": [
    {
     "name": "stdout",
     "output_type": "stream",
     "text": [
      "[Computer agent] Current State: SPECTATE\n",
      "[Computer agent] Received message(s)\n",
      "[Computer agent] New State: MUTATE\n",
      "[Human agent] Current State: SPECTATE\n",
      "[Human agent] New State: SPECTATE\n",
      "[Computer agent] Current State: MUTATE\n",
      "[Computer agent] Internal state mutated\n"
     ]
    },
    {
     "data": {
      "application/vnd.jupyter.widget-view+json": {
       "model_id": "89ba296b239b4aa68c350709eac7b3ac",
       "version_major": 2,
       "version_minor": 0
      },
      "text/plain": [
       "Output()"
      ]
     },
     "metadata": {},
     "output_type": "display_data"
    },
    {
     "data": {
      "text/html": [
       "<pre style=\"white-space:pre;overflow-x:auto;line-height:normal;font-family:Menlo,'DejaVu Sans Mono',consolas,'Courier New',monospace\"></pre>\n"
      ],
      "text/plain": []
     },
     "metadata": {},
     "output_type": "display_data"
    },
    {
     "name": "stdout",
     "output_type": "stream",
     "text": [
      "[Computer agent] Generated new message(s)\n",
      "[Computer agent] New State: DICTATE\n",
      "[Human agent] Current State: SPECTATE\n",
      "[Human agent] New State: SPECTATE\n",
      "[Computer agent] Current State: DICTATE\n",
      "[Computer agent] Sent message to Human agent\n",
      "[Computer agent] New State: SPECTATE\n",
      "[Human agent] Current State: SPECTATE\n",
      "[Human agent] Received message(s)\n",
      "[Human agent] New State: MUTATE\n",
      "[Computer agent] Current State: SPECTATE\n",
      "[Computer agent] New State: SPECTATE\n",
      "[Human agent] Current State: MUTATE\n",
      "[Human agent] Internal state mutated\n",
      "Enter message:"
     ]
    },
    {
     "name": "stdin",
     "output_type": "stream",
     "text": [
      " Well, actually I'm wondering how you, the open-interpreter agent, can improve your task tracking and execution\n"
     ]
    },
    {
     "name": "stdout",
     "output_type": "stream",
     "text": [
      "[Human agent] Generated new message(s)\n",
      "[Human agent] New State: DICTATE\n",
      "[Computer agent] Current State: SPECTATE\n",
      "[Computer agent] New State: SPECTATE\n",
      "[Human agent] Current State: DICTATE\n",
      "[Human agent] Sent message to Computer agent\n",
      "[Human agent] New State: SPECTATE\n",
      "[Computer agent] Current State: SPECTATE\n",
      "[Computer agent] Received message(s)\n",
      "[Computer agent] New State: MUTATE\n",
      "[Human agent] Current State: SPECTATE\n",
      "[Human agent] New State: SPECTATE\n",
      "[Computer agent] Current State: MUTATE\n",
      "[Computer agent] Internal state mutated\n"
     ]
    },
    {
     "data": {
      "application/vnd.jupyter.widget-view+json": {
       "model_id": "9b71981b922d418b9b31ed2006152d25",
       "version_major": 2,
       "version_minor": 0
      },
      "text/plain": [
       "Output()"
      ]
     },
     "metadata": {},
     "output_type": "display_data"
    },
    {
     "data": {
      "text/html": [
       "<pre style=\"white-space:pre;overflow-x:auto;line-height:normal;font-family:Menlo,'DejaVu Sans Mono',consolas,'Courier New',monospace\"></pre>\n"
      ],
      "text/plain": []
     },
     "metadata": {},
     "output_type": "display_data"
    },
    {
     "name": "stdout",
     "output_type": "stream",
     "text": [
      "[Computer agent] Generated new message(s)\n",
      "[Computer agent] New State: DICTATE\n",
      "[Human agent] Current State: SPECTATE\n",
      "[Human agent] New State: SPECTATE\n",
      "[Computer agent] Current State: DICTATE\n",
      "[Computer agent] Sent message to Human agent\n",
      "[Computer agent] New State: SPECTATE\n",
      "[Human agent] Current State: SPECTATE\n",
      "[Human agent] Received message(s)\n",
      "[Human agent] New State: MUTATE\n",
      "[Computer agent] Current State: SPECTATE\n",
      "[Computer agent] New State: SPECTATE\n",
      "[Human agent] Current State: MUTATE\n",
      "[Human agent] Internal state mutated\n",
      "Enter message:"
     ]
    },
    {
     "name": "stdin",
     "output_type": "stream",
     "text": [
      " Thank you for the excellent feedback. At this point I'm working on an agentic productivity paradigm using open-interpreter agents (like you) and also plain text openai agents along with human agents (like me). This current conversation is just between me, a human agent, and you, an open-interpreter agent. In my previous experiment I created a project manager open-interpreter agent and a software developer open-interpreter agent. these two interacted with each other in a loop. The goal is to get these agents to iteratively work on a project. the project can be anything software related. The issue I ran into was that sometimes these agents would mark a task complete when it wasn't actually completed. I was using a simple json tasks file with a list of task objects for encoding the \"project tasks roadmap\". The multi-agent system was able to read and update task data from this json file, but, as I mentioned, sometimes it would mark tasks as completed that weren't actually completed. This leads me to believe the system needs improvement with task processing which is why I'm consulting you. Thoughts?\n"
     ]
    },
    {
     "name": "stdout",
     "output_type": "stream",
     "text": [
      "[Human agent] Generated new message(s)\n",
      "[Human agent] New State: DICTATE\n",
      "[Computer agent] Current State: SPECTATE\n",
      "[Computer agent] New State: SPECTATE\n",
      "[Human agent] Current State: DICTATE\n",
      "[Human agent] Sent message to Computer agent\n",
      "[Human agent] New State: SPECTATE\n",
      "[Computer agent] Current State: SPECTATE\n",
      "[Computer agent] Received message(s)\n",
      "[Computer agent] New State: MUTATE\n",
      "[Human agent] Current State: SPECTATE\n",
      "[Human agent] New State: SPECTATE\n",
      "[Computer agent] Current State: MUTATE\n",
      "[Computer agent] Internal state mutated\n"
     ]
    },
    {
     "data": {
      "application/vnd.jupyter.widget-view+json": {
       "model_id": "3cfe63d5b37f40c28b89745b81f46075",
       "version_major": 2,
       "version_minor": 0
      },
      "text/plain": [
       "Output()"
      ]
     },
     "metadata": {},
     "output_type": "display_data"
    },
    {
     "data": {
      "text/html": [
       "<pre style=\"white-space:pre;overflow-x:auto;line-height:normal;font-family:Menlo,'DejaVu Sans Mono',consolas,'Courier New',monospace\"></pre>\n"
      ],
      "text/plain": []
     },
     "metadata": {},
     "output_type": "display_data"
    },
    {
     "name": "stdout",
     "output_type": "stream",
     "text": [
      "[Computer agent] Generated new message(s)\n",
      "[Computer agent] New State: DICTATE\n",
      "[Human agent] Current State: SPECTATE\n",
      "[Human agent] New State: SPECTATE\n",
      "[Computer agent] Current State: DICTATE\n",
      "[Computer agent] Sent message to Human agent\n",
      "[Computer agent] New State: SPECTATE\n",
      "[Human agent] Current State: SPECTATE\n",
      "[Human agent] Received message(s)\n",
      "[Human agent] New State: MUTATE\n",
      "[Computer agent] Current State: SPECTATE\n",
      "[Computer agent] New State: SPECTATE\n",
      "[Human agent] Current State: MUTATE\n",
      "[Human agent] Internal state mutated\n",
      "Enter message:"
     ]
    },
    {
     "name": "stdin",
     "output_type": "stream",
     "text": [
      " Yes, the json tasks are found in 'roadmap.json'. Please read this file for reference. It contains some of the capabilites you mentioned (such as task status) but it doesn't have verification or review features like you mentioned. Please see roadmap file and advise.\n"
     ]
    },
    {
     "name": "stdout",
     "output_type": "stream",
     "text": [
      "[Human agent] Generated new message(s)\n",
      "[Human agent] New State: DICTATE\n",
      "[Computer agent] Current State: SPECTATE\n",
      "[Computer agent] New State: SPECTATE\n",
      "[Human agent] Current State: DICTATE\n",
      "[Human agent] Sent message to Computer agent\n",
      "[Human agent] New State: SPECTATE\n",
      "[Computer agent] Current State: SPECTATE\n",
      "[Computer agent] Received message(s)\n",
      "[Computer agent] New State: MUTATE\n",
      "[Human agent] Current State: SPECTATE\n",
      "[Human agent] New State: SPECTATE\n",
      "[Computer agent] Current State: MUTATE\n",
      "[Computer agent] Internal state mutated\n"
     ]
    },
    {
     "data": {
      "application/vnd.jupyter.widget-view+json": {
       "model_id": "82f6a2ecb2794ed581c31811a5d234b5",
       "version_major": 2,
       "version_minor": 0
      },
      "text/plain": [
       "Output()"
      ]
     },
     "metadata": {},
     "output_type": "display_data"
    },
    {
     "data": {
      "text/html": [
       "<pre style=\"white-space:pre;overflow-x:auto;line-height:normal;font-family:Menlo,'DejaVu Sans Mono',consolas,'Courier New',monospace\"></pre>\n"
      ],
      "text/plain": []
     },
     "metadata": {},
     "output_type": "display_data"
    },
    {
     "data": {
      "application/vnd.jupyter.widget-view+json": {
       "model_id": "c14f6cfc17bb4912bd72781083764bef",
       "version_major": 2,
       "version_minor": 0
      },
      "text/plain": [
       "Output()"
      ]
     },
     "metadata": {},
     "output_type": "display_data"
    },
    {
     "data": {
      "text/html": [
       "<pre style=\"white-space:pre;overflow-x:auto;line-height:normal;font-family:Menlo,'DejaVu Sans Mono',consolas,'Courier New',monospace\"></pre>\n"
      ],
      "text/plain": []
     },
     "metadata": {},
     "output_type": "display_data"
    },
    {
     "name": "stdout",
     "output_type": "stream",
     "text": [
      "[Computer agent] Generated new message(s)\n",
      "[Computer agent] New State: DICTATE\n",
      "[Human agent] Current State: SPECTATE\n",
      "[Human agent] New State: SPECTATE\n",
      "[Computer agent] Current State: DICTATE\n",
      "[Computer agent] Sent message to Human agent\n",
      "[Computer agent] New State: SPECTATE\n",
      "[Human agent] Current State: SPECTATE\n",
      "[Human agent] Received message(s)\n",
      "[Human agent] New State: MUTATE\n",
      "[Computer agent] Current State: SPECTATE\n",
      "[Computer agent] New State: SPECTATE\n",
      "[Human agent] Current State: MUTATE\n",
      "[Human agent] Internal state mutated\n",
      "Enter message:"
     ]
    },
    {
     "name": "stdin",
     "output_type": "stream",
     "text": [
      " Here is the python code which structures the agentic workflow. ```python roadmapper = Agent(\"Roadmap Architect\", get_prompt(\"roadmapper\")) pm = Agent(\"Project Manager\", get_prompt(\"manager\"), mode=\"OpenAI\") dev = Agent(\"Software Developer\", get_prompt(\"dev\")) human = Agent(\"Human guy\", \"You are a human\", mode=\"Human\")  roadmapper.add_other_agent(pm) pm.add_other_agent(dev) dev.add_other_agent(human) human.add_other_agent(pm)  roadmapper.inbox.enqueue(     [{\"role\": \"user\", \"content\": f\"Here is the content of the project_description.txt file: \\n\\n {util_read_file(\"project_description.txt\")}\", \"type\": \"message\"},     {\"role\": \"user\", \"content\": \"Please proceed to create a very detailed roadmap.json file\", \"type\": \"message\"}])  while True:     roadmapper.handle_state()     pm.handle_state()     dev.handle_state()     human.handle_state()``` I wonder if it would be helpful to add more agents for verification or other features you mentioned. Is this information helpful to you?\n"
     ]
    },
    {
     "name": "stdout",
     "output_type": "stream",
     "text": [
      "[Human agent] Generated new message(s)\n",
      "[Human agent] New State: DICTATE\n",
      "[Computer agent] Current State: SPECTATE\n",
      "[Computer agent] New State: SPECTATE\n",
      "[Human agent] Current State: DICTATE\n",
      "[Human agent] Sent message to Computer agent\n",
      "[Human agent] New State: SPECTATE\n",
      "[Computer agent] Current State: SPECTATE\n",
      "[Computer agent] Received message(s)\n",
      "[Computer agent] New State: MUTATE\n",
      "[Human agent] Current State: SPECTATE\n",
      "[Human agent] New State: SPECTATE\n",
      "[Computer agent] Current State: MUTATE\n",
      "[Computer agent] Internal state mutated\n"
     ]
    },
    {
     "data": {
      "application/vnd.jupyter.widget-view+json": {
       "model_id": "22c06532a3e24e85b3b1a4caff7019ff",
       "version_major": 2,
       "version_minor": 0
      },
      "text/plain": [
       "Output()"
      ]
     },
     "metadata": {},
     "output_type": "display_data"
    },
    {
     "data": {
      "text/html": [
       "<pre style=\"white-space:pre;overflow-x:auto;line-height:normal;font-family:Menlo,'DejaVu Sans Mono',consolas,'Courier New',monospace\"></pre>\n"
      ],
      "text/plain": []
     },
     "metadata": {},
     "output_type": "display_data"
    },
    {
     "name": "stdout",
     "output_type": "stream",
     "text": [
      "[Computer agent] Generated new message(s)\n",
      "[Computer agent] New State: DICTATE\n",
      "[Human agent] Current State: SPECTATE\n",
      "[Human agent] New State: SPECTATE\n",
      "[Computer agent] Current State: DICTATE\n",
      "[Computer agent] Sent message to Human agent\n",
      "[Computer agent] New State: SPECTATE\n",
      "[Human agent] Current State: SPECTATE\n",
      "[Human agent] Received message(s)\n",
      "[Human agent] New State: MUTATE\n",
      "[Computer agent] Current State: SPECTATE\n",
      "[Computer agent] New State: SPECTATE\n",
      "[Human agent] Current State: MUTATE\n",
      "[Human agent] Internal state mutated\n",
      "Enter message:"
     ]
    },
    {
     "name": "stdin",
     "output_type": "stream",
     "text": [
      " Hmmm, yes, I like where this is going. I wonder if it would be helpful to define the whole system in this ipynb file. Right now I'm reading agent prompts from the './prompts' directory. Could you read the prompts from this directory and re-write them as python variables. Then it will be easier to add new agents like the verifier. Also, feel free to improve these prompts in any way you deem beneficial.\n"
     ]
    },
    {
     "name": "stdout",
     "output_type": "stream",
     "text": [
      "[Human agent] Generated new message(s)\n",
      "[Human agent] New State: DICTATE\n",
      "[Computer agent] Current State: SPECTATE\n",
      "[Computer agent] New State: SPECTATE\n",
      "[Human agent] Current State: DICTATE\n",
      "[Human agent] Sent message to Computer agent\n",
      "[Human agent] New State: SPECTATE\n",
      "[Computer agent] Current State: SPECTATE\n",
      "[Computer agent] Received message(s)\n",
      "[Computer agent] New State: MUTATE\n",
      "[Human agent] Current State: SPECTATE\n",
      "[Human agent] New State: SPECTATE\n",
      "[Computer agent] Current State: MUTATE\n",
      "[Computer agent] Internal state mutated\n"
     ]
    },
    {
     "data": {
      "application/vnd.jupyter.widget-view+json": {
       "model_id": "f796826fffb44265989765f6b3acc44a",
       "version_major": 2,
       "version_minor": 0
      },
      "text/plain": [
       "Output()"
      ]
     },
     "metadata": {},
     "output_type": "display_data"
    },
    {
     "data": {
      "text/html": [
       "<pre style=\"white-space:pre;overflow-x:auto;line-height:normal;font-family:Menlo,'DejaVu Sans Mono',consolas,'Courier New',monospace\"></pre>\n"
      ],
      "text/plain": []
     },
     "metadata": {},
     "output_type": "display_data"
    },
    {
     "data": {
      "application/vnd.jupyter.widget-view+json": {
       "model_id": "657fc55fdac14248886f14c542e275fe",
       "version_major": 2,
       "version_minor": 0
      },
      "text/plain": [
       "Output()"
      ]
     },
     "metadata": {},
     "output_type": "display_data"
    },
    {
     "data": {
      "text/html": [
       "<pre style=\"white-space:pre;overflow-x:auto;line-height:normal;font-family:Menlo,'DejaVu Sans Mono',consolas,'Courier New',monospace\"></pre>\n"
      ],
      "text/plain": []
     },
     "metadata": {},
     "output_type": "display_data"
    },
    {
     "name": "stdout",
     "output_type": "stream",
     "text": [
      "[Computer agent] Generated new message(s)\n",
      "[Computer agent] New State: DICTATE\n",
      "[Human agent] Current State: SPECTATE\n",
      "[Human agent] New State: SPECTATE\n",
      "[Computer agent] Current State: DICTATE\n",
      "[Computer agent] Sent message to Human agent\n",
      "[Computer agent] New State: SPECTATE\n",
      "[Human agent] Current State: SPECTATE\n",
      "[Human agent] Received message(s)\n",
      "[Human agent] New State: MUTATE\n",
      "[Computer agent] Current State: SPECTATE\n",
      "[Computer agent] New State: SPECTATE\n",
      "[Human agent] Current State: MUTATE\n",
      "[Human agent] Internal state mutated\n",
      "Enter message:"
     ]
    },
    {
     "name": "stdin",
     "output_type": "stream",
     "text": [
      " Yes, thank you. I appreciate these updates! I saved the recommended changes to my ipynb file but I haven't run them yet. I'm wondering if you can help me think through criteria by which I, the human, might verify whether the new system is an improvement or not from the old system. I suppose I could just run it and see. Thoughts? It's kind of a funny self-referential domain we're working in lol!\n"
     ]
    },
    {
     "name": "stdout",
     "output_type": "stream",
     "text": [
      "[Human agent] Generated new message(s)\n",
      "[Human agent] New State: DICTATE\n",
      "[Computer agent] Current State: SPECTATE\n",
      "[Computer agent] New State: SPECTATE\n",
      "[Human agent] Current State: DICTATE\n",
      "[Human agent] Sent message to Computer agent\n",
      "[Human agent] New State: SPECTATE\n",
      "[Computer agent] Current State: SPECTATE\n",
      "[Computer agent] Received message(s)\n",
      "[Computer agent] New State: MUTATE\n",
      "[Human agent] Current State: SPECTATE\n",
      "[Human agent] New State: SPECTATE\n",
      "[Computer agent] Current State: MUTATE\n",
      "[Computer agent] Internal state mutated\n"
     ]
    },
    {
     "data": {
      "application/vnd.jupyter.widget-view+json": {
       "model_id": "960aa2a2f0de41c18474002dd19293d5",
       "version_major": 2,
       "version_minor": 0
      },
      "text/plain": [
       "Output()"
      ]
     },
     "metadata": {},
     "output_type": "display_data"
    },
    {
     "data": {
      "text/html": [
       "<pre style=\"white-space:pre;overflow-x:auto;line-height:normal;font-family:Menlo,'DejaVu Sans Mono',consolas,'Courier New',monospace\"></pre>\n"
      ],
      "text/plain": []
     },
     "metadata": {},
     "output_type": "display_data"
    },
    {
     "name": "stdout",
     "output_type": "stream",
     "text": [
      "[Computer agent] Generated new message(s)\n",
      "[Computer agent] New State: DICTATE\n",
      "[Human agent] Current State: SPECTATE\n",
      "[Human agent] New State: SPECTATE\n",
      "[Computer agent] Current State: DICTATE\n",
      "[Computer agent] Sent message to Human agent\n",
      "[Computer agent] New State: SPECTATE\n",
      "[Human agent] Current State: SPECTATE\n",
      "[Human agent] Received message(s)\n",
      "[Human agent] New State: MUTATE\n",
      "[Computer agent] Current State: SPECTATE\n",
      "[Computer agent] New State: SPECTATE\n",
      "[Human agent] Current State: MUTATE\n",
      "[Human agent] Internal state mutated\n",
      "Enter message:"
     ]
    },
    {
     "ename": "KeyboardInterrupt",
     "evalue": "Interrupted by user",
     "output_type": "error",
     "traceback": [
      "\u001b[0;31m---------------------------------------------------------------------------\u001b[0m",
      "\u001b[0;31mKeyboardInterrupt\u001b[0m                         Traceback (most recent call last)",
      "Cell \u001b[0;32mIn[87], line 3\u001b[0m\n\u001b[1;32m      1\u001b[0m \u001b[38;5;28;01mwhile\u001b[39;00m \u001b[38;5;28;01mTrue\u001b[39;00m:\n\u001b[1;32m      2\u001b[0m     agent\u001b[38;5;241m.\u001b[39mhandle_state()\n\u001b[0;32m----> 3\u001b[0m     human\u001b[38;5;241m.\u001b[39mhandle_state()\n",
      "Cell \u001b[0;32mIn[82], line 51\u001b[0m, in \u001b[0;36mAgent.handle_state\u001b[0;34m(self)\u001b[0m\n\u001b[1;32m     49\u001b[0m     \u001b[38;5;28mself\u001b[39m\u001b[38;5;241m.\u001b[39mgenerated_new_messages \u001b[38;5;241m=\u001b[39m \u001b[38;5;28mself\u001b[39m\u001b[38;5;241m.\u001b[39mopenai_chat(\u001b[38;5;28mself\u001b[39m\u001b[38;5;241m.\u001b[39minternal_state)\n\u001b[1;32m     50\u001b[0m \u001b[38;5;28;01melif\u001b[39;00m \u001b[38;5;28mself\u001b[39m\u001b[38;5;241m.\u001b[39mmode \u001b[38;5;241m==\u001b[39m \u001b[38;5;124m\"\u001b[39m\u001b[38;5;124mHuman\u001b[39m\u001b[38;5;124m\"\u001b[39m:\n\u001b[0;32m---> 51\u001b[0m     \u001b[38;5;28mself\u001b[39m\u001b[38;5;241m.\u001b[39mgenerated_new_messages \u001b[38;5;241m=\u001b[39m [{\u001b[38;5;124m\"\u001b[39m\u001b[38;5;124mrole\u001b[39m\u001b[38;5;124m\"\u001b[39m:\u001b[38;5;124m\"\u001b[39m\u001b[38;5;124muser\u001b[39m\u001b[38;5;124m\"\u001b[39m, \u001b[38;5;124m\"\u001b[39m\u001b[38;5;124mcontent\u001b[39m\u001b[38;5;124m\"\u001b[39m: \u001b[38;5;28mself\u001b[39m\u001b[38;5;241m.\u001b[39mblocking_input(\u001b[38;5;124m\"\u001b[39m\u001b[38;5;124mEnter message:\u001b[39m\u001b[38;5;124m\"\u001b[39m), \u001b[38;5;124m\"\u001b[39m\u001b[38;5;124mtype\u001b[39m\u001b[38;5;124m\"\u001b[39m: \u001b[38;5;124m\"\u001b[39m\u001b[38;5;124mmessage\u001b[39m\u001b[38;5;124m\"\u001b[39m}]\n\u001b[1;32m     52\u001b[0m \u001b[38;5;28mprint\u001b[39m(\u001b[38;5;124mf\u001b[39m\u001b[38;5;124m\"\u001b[39m\u001b[38;5;124m[\u001b[39m\u001b[38;5;132;01m{\u001b[39;00m\u001b[38;5;28mself\u001b[39m\u001b[38;5;241m.\u001b[39mname\u001b[38;5;132;01m}\u001b[39;00m\u001b[38;5;124m] Generated new message(s)\u001b[39m\u001b[38;5;124m\"\u001b[39m)\n\u001b[1;32m     53\u001b[0m \u001b[38;5;28;01mif\u001b[39;00m \u001b[38;5;28mself\u001b[39m\u001b[38;5;241m.\u001b[39mmode \u001b[38;5;241m==\u001b[39m \u001b[38;5;124m\"\u001b[39m\u001b[38;5;124mOpenAI\u001b[39m\u001b[38;5;124m\"\u001b[39m:\n",
      "Cell \u001b[0;32mIn[82], line 81\u001b[0m, in \u001b[0;36mAgent.blocking_input\u001b[0;34m(self, prompt)\u001b[0m\n\u001b[1;32m     79\u001b[0m \u001b[38;5;28mprint\u001b[39m(prompt, end\u001b[38;5;241m=\u001b[39m\u001b[38;5;124m'\u001b[39m\u001b[38;5;124m'\u001b[39m, flush\u001b[38;5;241m=\u001b[39m\u001b[38;5;28;01mTrue\u001b[39;00m)\n\u001b[1;32m     80\u001b[0m \u001b[38;5;28;01mwhile\u001b[39;00m \u001b[38;5;28;01mTrue\u001b[39;00m:\n\u001b[0;32m---> 81\u001b[0m     response \u001b[38;5;241m=\u001b[39m \u001b[38;5;28minput\u001b[39m()\n\u001b[1;32m     82\u001b[0m     \u001b[38;5;28;01mif\u001b[39;00m response:\n\u001b[1;32m     83\u001b[0m         \u001b[38;5;28;01mreturn\u001b[39;00m response\n",
      "File \u001b[0;32m/opt/anaconda3/lib/python3.12/site-packages/ipykernel/kernelbase.py:1262\u001b[0m, in \u001b[0;36mKernel.raw_input\u001b[0;34m(self, prompt)\u001b[0m\n\u001b[1;32m   1260\u001b[0m     msg \u001b[38;5;241m=\u001b[39m \u001b[38;5;124m\"\u001b[39m\u001b[38;5;124mraw_input was called, but this frontend does not support input requests.\u001b[39m\u001b[38;5;124m\"\u001b[39m\n\u001b[1;32m   1261\u001b[0m     \u001b[38;5;28;01mraise\u001b[39;00m StdinNotImplementedError(msg)\n\u001b[0;32m-> 1262\u001b[0m \u001b[38;5;28;01mreturn\u001b[39;00m \u001b[38;5;28mself\u001b[39m\u001b[38;5;241m.\u001b[39m_input_request(\n\u001b[1;32m   1263\u001b[0m     \u001b[38;5;28mstr\u001b[39m(prompt),\n\u001b[1;32m   1264\u001b[0m     \u001b[38;5;28mself\u001b[39m\u001b[38;5;241m.\u001b[39m_parent_ident[\u001b[38;5;124m\"\u001b[39m\u001b[38;5;124mshell\u001b[39m\u001b[38;5;124m\"\u001b[39m],\n\u001b[1;32m   1265\u001b[0m     \u001b[38;5;28mself\u001b[39m\u001b[38;5;241m.\u001b[39mget_parent(\u001b[38;5;124m\"\u001b[39m\u001b[38;5;124mshell\u001b[39m\u001b[38;5;124m\"\u001b[39m),\n\u001b[1;32m   1266\u001b[0m     password\u001b[38;5;241m=\u001b[39m\u001b[38;5;28;01mFalse\u001b[39;00m,\n\u001b[1;32m   1267\u001b[0m )\n",
      "File \u001b[0;32m/opt/anaconda3/lib/python3.12/site-packages/ipykernel/kernelbase.py:1305\u001b[0m, in \u001b[0;36mKernel._input_request\u001b[0;34m(self, prompt, ident, parent, password)\u001b[0m\n\u001b[1;32m   1302\u001b[0m \u001b[38;5;28;01mexcept\u001b[39;00m \u001b[38;5;167;01mKeyboardInterrupt\u001b[39;00m:\n\u001b[1;32m   1303\u001b[0m     \u001b[38;5;66;03m# re-raise KeyboardInterrupt, to truncate traceback\u001b[39;00m\n\u001b[1;32m   1304\u001b[0m     msg \u001b[38;5;241m=\u001b[39m \u001b[38;5;124m\"\u001b[39m\u001b[38;5;124mInterrupted by user\u001b[39m\u001b[38;5;124m\"\u001b[39m\n\u001b[0;32m-> 1305\u001b[0m     \u001b[38;5;28;01mraise\u001b[39;00m \u001b[38;5;167;01mKeyboardInterrupt\u001b[39;00m(msg) \u001b[38;5;28;01mfrom\u001b[39;00m \u001b[38;5;28;01mNone\u001b[39;00m\n\u001b[1;32m   1306\u001b[0m \u001b[38;5;28;01mexcept\u001b[39;00m \u001b[38;5;167;01mException\u001b[39;00m:\n\u001b[1;32m   1307\u001b[0m     \u001b[38;5;28mself\u001b[39m\u001b[38;5;241m.\u001b[39mlog\u001b[38;5;241m.\u001b[39mwarning(\u001b[38;5;124m\"\u001b[39m\u001b[38;5;124mInvalid Message:\u001b[39m\u001b[38;5;124m\"\u001b[39m, exc_info\u001b[38;5;241m=\u001b[39m\u001b[38;5;28;01mTrue\u001b[39;00m)\n",
      "\u001b[0;31mKeyboardInterrupt\u001b[0m: Interrupted by user"
     ]
    }
   ],
   "source": [
    "while True:\n",
    "    agent.handle_state()\n",
    "    human.handle_state()"
   ]
  },
  {
   "cell_type": "code",
   "execution_count": 85,
   "id": "26365f9e-12bf-40e3-ace2-c1d87656bf3c",
   "metadata": {},
   "outputs": [
    {
     "data": {
      "text/plain": [
       "[{'role': 'assistant',\n",
       "  'content': 'Hello. Can you hear me?',\n",
       "  'type': 'message'},\n",
       " {'role': 'user',\n",
       "  'type': 'message',\n",
       "  'content': 'Hello! Yes, I can hear you. How can I assist you today? If you have a specific task or question in mind, please let me know!'},\n",
       " {'role': 'assistant',\n",
       "  'content': \"Hi! I'm wondering if you can help me help you improve your task tracking and execution capabilites. Thoughts? At this point I'm interested in a simple discussion on the matter. Thanks!\",\n",
       "  'type': 'message'},\n",
       " {'role': 'user',\n",
       "  'type': 'message',\n",
       "  'content': \"That sounds like a great idea! Improving task tracking and execution can significantly boost productivity and help manage your time effectively. Here’s a rough plan to structure our discussion:\\n\\n1. **Identify Current Methods**: Discuss what methods you're currently using for task tracking.\\n2. **Evaluate Effectiveness**: Consider how effective those methods are.\\n3. **Explore Alternatives**: Look into other tools or techniques that might work for you.\\n4. **Implementation Plan**: Create a simple plan to try out new methods.\\n\\nLet's start with the first point: What methods are you currently using for tracking tasks?\"}]"
      ]
     },
     "execution_count": 85,
     "metadata": {},
     "output_type": "execute_result"
    }
   ],
   "source": [
    "agent.oi.messages"
   ]
  },
  {
   "cell_type": "code",
   "execution_count": null,
   "id": "fa497f9d-b2d0-40d5-b61a-294998c47358",
   "metadata": {},
   "outputs": [],
   "source": []
  },
  {
   "cell_type": "code",
   "execution_count": null,
   "id": "9af60fe7-9d14-4f66-88e9-6f3eb9ac9d3e",
   "metadata": {},
   "outputs": [],
   "source": []
  },
  {
   "cell_type": "code",
   "execution_count": null,
   "id": "f9c9fe0a-f362-48ba-9e96-239d8099b538",
   "metadata": {},
   "outputs": [],
   "source": []
  },
  {
   "cell_type": "code",
   "execution_count": null,
   "id": "15d12ae5-d50c-4c1e-a18c-361b6f874c2f",
   "metadata": {},
   "outputs": [],
   "source": []
  },
  {
   "cell_type": "code",
   "execution_count": 89,
   "id": "250eb277-4cd6-4d1b-b2ec-493ac9034b82",
   "metadata": {},
   "outputs": [
    {
     "data": {
      "text/plain": [
       "[{'role': 'user', 'content': 'Hello, how are you?', 'type': 'user'},\n",
       " {'role': 'system', 'content': 'System initialized.', 'type': 'system'},\n",
       " {'role': 'assistant',\n",
       "  'content': \"I'm here to help you.\",\n",
       "  'type': 'assistant'},\n",
       " {'role': 'user', 'content': 'Can you tell me a joke?', 'type': 'user'},\n",
       " {'role': 'assistant',\n",
       "  'content': 'Why did the chicken cross the road?',\n",
       "  'type': 'assistant'},\n",
       " {'role': 'user',\n",
       "  'content': 'What is the weather today?',\n",
       "  'type': 'assistant'},\n",
       " {'role': 'assistant', 'content': \"It's sunny today.\", 'type': 'assistant'},\n",
       " {'role': 'system',\n",
       "  'content': 'Error in processing request.',\n",
       "  'type': 'assistant'},\n",
       " {'role': 'user', 'content': 'Thank you!', 'type': 'user'},\n",
       " {'role': 'assistant', 'content': \"You're welcome!\", 'type': 'assistant'}]"
      ]
     },
     "execution_count": 89,
     "metadata": {},
     "output_type": "execute_result"
    }
   ],
   "source": [
    "test_messages = [\n",
    "    {\"role\": \"user\", \"content\": \"Hello, how are you?\", \"type\": \"user\"},\n",
    "    {\"role\": \"system\", \"content\": \"System initialized.\", \"type\": \"system\"},\n",
    "    {\"role\": \"assistant\", \"content\": \"I'm here to help you.\", \"type\": \"assistant\"},\n",
    "    {\"role\": \"user\", \"content\": \"Can you tell me a joke?\", \"type\": \"user\"},\n",
    "    {\"role\": \"assistant\", \"content\": \"Why did the chicken cross the road?\", \"type\": \"joke\"},\n",
    "    {\"role\": \"user\", \"content\": \"What is the weather today?\", \"type\": \"query\"},\n",
    "    {\"role\": \"assistant\", \"content\": \"It's sunny today.\", \"type\": \"weather\"},\n",
    "    {\"role\": \"system\", \"content\": \"Error in processing request.\", \"type\": \"error\"},\n",
    "    {\"role\": \"user\", \"content\": \"Thank you!\", \"type\": \"user\"},\n",
    "    {\"role\": \"assistant\", \"content\": \"You're welcome!\", \"type\": \"assistant\"}\n",
    "]\n",
    "\n",
    "for message in test_messages:\n",
    "    if message[\"type\"] not in [\"system\", \"user\", \"assistant\"]:\n",
    "        message[\"type\"] = \"assistant\"\n",
    "\n",
    "test_messages"
   ]
  },
  {
   "cell_type": "code",
   "execution_count": null,
   "id": "4d9060ba-4a98-41f8-b21e-3fce243cb599",
   "metadata": {},
   "outputs": [],
   "source": []
  },
  {
   "cell_type": "code",
   "execution_count": null,
   "id": "39264016-98ba-4866-b5ed-9ccfef1e5d83",
   "metadata": {},
   "outputs": [],
   "source": []
  },
  {
   "cell_type": "code",
   "execution_count": null,
   "id": "fbf2b6da-2472-4f7f-865f-e938e1349f46",
   "metadata": {},
   "outputs": [],
   "source": []
  },
  {
   "cell_type": "code",
   "execution_count": null,
   "id": "e03ddf14-c093-4d6e-9b01-7b8081ef7164",
   "metadata": {},
   "outputs": [],
   "source": []
  },
  {
   "cell_type": "code",
   "execution_count": null,
   "id": "390aea94-40ce-410b-9eee-914b9bef5328",
   "metadata": {},
   "outputs": [],
   "source": []
  },
  {
   "cell_type": "code",
   "execution_count": null,
   "id": "ee93c68e-ab1b-4a3a-8315-37c00f1c76ca",
   "metadata": {},
   "outputs": [],
   "source": []
  }
 ],
 "metadata": {
  "kernelspec": {
   "display_name": "Python 3 (ipykernel)",
   "language": "python",
   "name": "python3"
  },
  "language_info": {
   "codemirror_mode": {
    "name": "ipython",
    "version": 3
   },
   "file_extension": ".py",
   "mimetype": "text/x-python",
   "name": "python",
   "nbconvert_exporter": "python",
   "pygments_lexer": "ipython3",
   "version": "3.12.4"
  }
 },
 "nbformat": 4,
 "nbformat_minor": 5
}
